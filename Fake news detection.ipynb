{
 "cells": [
  {
   "cell_type": "markdown",
   "id": "959c00a9",
   "metadata": {},
   "source": [
    "<a href=\"https://cognitiveclass.ai\"><img src = \"https://imagenes.20minutos.es/files/article_amp/uploads/imagenes/2021/01/28/corruption-2727571-1280-1.png\" width = 400> </a>\n",
    "\n",
    "<h1 align=center><font size = 6>Fake news detection through Machine Learning</font></h1>"
   ]
  },
  {
   "cell_type": "markdown",
   "id": "c533fb66",
   "metadata": {},
   "source": [
    "## Indice\n",
    "\n",
    "<div class=\"alert alert-block alert-info\" style=\"margin-top: 20px\">\n",
    "\n",
    "1. [Introduction](#1)<br>\n",
    "2. [Data adquisition and cleaning](#2)<br>\n",
    "    1. [Data Cleaning](#21)\n",
    "    2. [Data Wrangling / Preprocessing](#22)\n",
    "    3. [Feature Selection](#23)\n",
    "    4. [Final Dataframe](#24)\n",
    "3. [Exploratory data Analysis (EDA)](#3) <br>\n",
    "    1. [Descriptive Statistical Analysis](#31)\n",
    "    2. [Correlation and Causation](#32)\n",
    "    3. [Value counts](#33)\n",
    "    4. [Grouping](#34)\n",
    "    5. [ANOVA](#35)\n",
    "4. [Text Representation](#4) <br>\n",
    "    1. [GloVE](#41)\n",
    "    2. [Word Embedding](#42)\n",
    "6. [Model Development](#5) <br>\n",
    "    1. [Support Vector Machine (SVM)](#51)\n",
    "    2. [Neural Networks](#52)\n",
    "6. [Model Evaluation and Refinement](#6) <br>\n",
    "7. [Results](#7) <br>\n",
    "8. [Conclusion](#8) <br> \n",
    "</div>\n",
    "<hr>"
   ]
  },
  {
   "cell_type": "markdown",
   "id": "3892b017",
   "metadata": {},
   "source": [
    "## Introduction <a id=\"1\"></a>\n",
    "\n",
    "Como se menciona en el titulo, vamos a diseñar un modelo de predicción orientado a la detección de noticias falsas. Para esta tarea emplearemos dos formas diferentes de representar palabras y utilizaremos dos modelos logísticos diferentes. A diferencia de proyectos anteriores, vamos a trabajar con dos features que son de tipo texto, añadiendo asi algo de complejidad extra al proyecto.\n",
    "\n",
    "Nuestro objetivo será comparar resultados entre representaciones diferentes y obtener un clasificador que realice de forma correcta la clasificación."
   ]
  },
  {
   "cell_type": "code",
   "execution_count": 125,
   "id": "e33e2eea",
   "metadata": {},
   "outputs": [],
   "source": [
    "import pandas as pd\n",
    "import numpy as np\n",
    "import matplotlib.pyplot as plt\n",
    "import missingno as msno\n",
    "import regex as re"
   ]
  },
  {
   "cell_type": "code",
   "execution_count": null,
   "id": "bed275c2",
   "metadata": {},
   "outputs": [],
   "source": []
  },
  {
   "cell_type": "markdown",
   "id": "c9291dc0",
   "metadata": {},
   "source": [
    "<hr>"
   ]
  },
  {
   "cell_type": "markdown",
   "id": "14833258",
   "metadata": {},
   "source": [
    "## 2. Data adquisition and cleaning<a id=\"2\"></a>\n",
    "\n",
    "Primero de todo, obtendremos el conjunto de datos."
   ]
  },
  {
   "cell_type": "code",
   "execution_count": 126,
   "id": "49411dac",
   "metadata": {},
   "outputs": [],
   "source": [
    "df_fake = pd.read_csv('./Data/Fake.csv')\n",
    "df_real = pd.read_csv('./Data/True.csv')"
   ]
  },
  {
   "cell_type": "markdown",
   "id": "6bf60600",
   "metadata": {},
   "source": [
    "Como se observa, los datos estan divididos en dos conjuntos de datos dependiendo de la clase, es por ello que vamos a unirlos para poder trabajar con mas comodidad."
   ]
  },
  {
   "cell_type": "code",
   "execution_count": 127,
   "id": "de0524f5",
   "metadata": {},
   "outputs": [],
   "source": [
    "df_fake[\"label\"] = \"fake\"\n",
    "df_real[\"label\"] = \"real\"\n",
    "df_news = pd.concat([df_fake,df_real]).sample(frac=1)\n",
    "df_news.reset_index(drop=True, inplace=True)"
   ]
  },
  {
   "cell_type": "code",
   "execution_count": 128,
   "id": "22958097",
   "metadata": {},
   "outputs": [
    {
     "data": {
      "text/html": [
       "<div>\n",
       "<style scoped>\n",
       "    .dataframe tbody tr th:only-of-type {\n",
       "        vertical-align: middle;\n",
       "    }\n",
       "\n",
       "    .dataframe tbody tr th {\n",
       "        vertical-align: top;\n",
       "    }\n",
       "\n",
       "    .dataframe thead th {\n",
       "        text-align: right;\n",
       "    }\n",
       "</style>\n",
       "<table border=\"1\" class=\"dataframe\">\n",
       "  <thead>\n",
       "    <tr style=\"text-align: right;\">\n",
       "      <th></th>\n",
       "      <th>title</th>\n",
       "      <th>text</th>\n",
       "      <th>subject</th>\n",
       "      <th>date</th>\n",
       "      <th>label</th>\n",
       "    </tr>\n",
       "  </thead>\n",
       "  <tbody>\n",
       "    <tr>\n",
       "      <th>0</th>\n",
       "      <td>Donald Trump Insults Obama: ‘I Wonder If They...</td>\n",
       "      <td>Republican presidential frontrunner Donald Tru...</td>\n",
       "      <td>News</td>\n",
       "      <td>March 22, 2016</td>\n",
       "      <td>fake</td>\n",
       "    </tr>\n",
       "    <tr>\n",
       "      <th>1</th>\n",
       "      <td>SUPER TUESDAY PROJECTION MAP FROM REAL CLEAR P...</td>\n",
       "      <td>Here s the projection from Real Clear Politics...</td>\n",
       "      <td>politics</td>\n",
       "      <td>Feb 29, 2016</td>\n",
       "      <td>fake</td>\n",
       "    </tr>\n",
       "    <tr>\n",
       "      <th>2</th>\n",
       "      <td>LIBERAL HEADS EXPLODE! Trump Donates First Pay...</td>\n",
       "      <td>President Trump just made liberal heads explod...</td>\n",
       "      <td>left-news</td>\n",
       "      <td>Jul 5, 2017</td>\n",
       "      <td>fake</td>\n",
       "    </tr>\n",
       "    <tr>\n",
       "      <th>3</th>\n",
       "      <td>Oklahoma Republican: God Will Pay Legal Expen...</td>\n",
       "      <td>Republican delusion never ceases to reach new ...</td>\n",
       "      <td>News</td>\n",
       "      <td>April 23, 2016</td>\n",
       "      <td>fake</td>\n",
       "    </tr>\n",
       "    <tr>\n",
       "      <th>4</th>\n",
       "      <td>McCain vows to block proposed separation of NS...</td>\n",
       "      <td>WASHINGTON (Reuters) - U.S. Senator John McCai...</td>\n",
       "      <td>politicsNews</td>\n",
       "      <td>September 13, 2016</td>\n",
       "      <td>real</td>\n",
       "    </tr>\n",
       "    <tr>\n",
       "      <th>...</th>\n",
       "      <td>...</td>\n",
       "      <td>...</td>\n",
       "      <td>...</td>\n",
       "      <td>...</td>\n",
       "      <td>...</td>\n",
       "    </tr>\n",
       "    <tr>\n",
       "      <th>44893</th>\n",
       "      <td>Sixteen killed in attacks on remote Mozambique...</td>\n",
       "      <td>MAPUTO (Reuters) - Gun battles last week betwe...</td>\n",
       "      <td>worldnews</td>\n",
       "      <td>October 9, 2017</td>\n",
       "      <td>real</td>\n",
       "    </tr>\n",
       "    <tr>\n",
       "      <th>44894</th>\n",
       "      <td>U.S. Senate advances Iran sanctions bill, eyes...</td>\n",
       "      <td>WASHINGTON (Reuters) - The U.S. Senate voted o...</td>\n",
       "      <td>politicsNews</td>\n",
       "      <td>June 7, 2017</td>\n",
       "      <td>real</td>\n",
       "    </tr>\n",
       "    <tr>\n",
       "      <th>44895</th>\n",
       "      <td>Russian MP says Flynn resignation may show Whi...</td>\n",
       "      <td>MOSCOW (Reuters) - A senior Russian lawmaker s...</td>\n",
       "      <td>politicsNews</td>\n",
       "      <td>February 14, 2017</td>\n",
       "      <td>real</td>\n",
       "    </tr>\n",
       "    <tr>\n",
       "      <th>44896</th>\n",
       "      <td>Liberal, Man-Hating Movement DESTROYS Career O...</td>\n",
       "      <td>Lauren McGaughy of The Dallas Morning News di...</td>\n",
       "      <td>politics</td>\n",
       "      <td>Dec 16, 2017</td>\n",
       "      <td>fake</td>\n",
       "    </tr>\n",
       "    <tr>\n",
       "      <th>44897</th>\n",
       "      <td>France's Macron says EU all united on Brexit t...</td>\n",
       "      <td>BRUSSELS (Reuters) - French President Emmanuel...</td>\n",
       "      <td>worldnews</td>\n",
       "      <td>October 19, 2017</td>\n",
       "      <td>real</td>\n",
       "    </tr>\n",
       "  </tbody>\n",
       "</table>\n",
       "<p>44898 rows × 5 columns</p>\n",
       "</div>"
      ],
      "text/plain": [
       "                                                   title  \\\n",
       "0       Donald Trump Insults Obama: ‘I Wonder If They...   \n",
       "1      SUPER TUESDAY PROJECTION MAP FROM REAL CLEAR P...   \n",
       "2      LIBERAL HEADS EXPLODE! Trump Donates First Pay...   \n",
       "3       Oklahoma Republican: God Will Pay Legal Expen...   \n",
       "4      McCain vows to block proposed separation of NS...   \n",
       "...                                                  ...   \n",
       "44893  Sixteen killed in attacks on remote Mozambique...   \n",
       "44894  U.S. Senate advances Iran sanctions bill, eyes...   \n",
       "44895  Russian MP says Flynn resignation may show Whi...   \n",
       "44896  Liberal, Man-Hating Movement DESTROYS Career O...   \n",
       "44897  France's Macron says EU all united on Brexit t...   \n",
       "\n",
       "                                                    text       subject  \\\n",
       "0      Republican presidential frontrunner Donald Tru...          News   \n",
       "1      Here s the projection from Real Clear Politics...      politics   \n",
       "2      President Trump just made liberal heads explod...     left-news   \n",
       "3      Republican delusion never ceases to reach new ...          News   \n",
       "4      WASHINGTON (Reuters) - U.S. Senator John McCai...  politicsNews   \n",
       "...                                                  ...           ...   \n",
       "44893  MAPUTO (Reuters) - Gun battles last week betwe...     worldnews   \n",
       "44894  WASHINGTON (Reuters) - The U.S. Senate voted o...  politicsNews   \n",
       "44895  MOSCOW (Reuters) - A senior Russian lawmaker s...  politicsNews   \n",
       "44896   Lauren McGaughy of The Dallas Morning News di...      politics   \n",
       "44897  BRUSSELS (Reuters) - French President Emmanuel...     worldnews   \n",
       "\n",
       "                      date label  \n",
       "0           March 22, 2016  fake  \n",
       "1             Feb 29, 2016  fake  \n",
       "2              Jul 5, 2017  fake  \n",
       "3           April 23, 2016  fake  \n",
       "4      September 13, 2016   real  \n",
       "...                    ...   ...  \n",
       "44893     October 9, 2017   real  \n",
       "44894        June 7, 2017   real  \n",
       "44895   February 14, 2017   real  \n",
       "44896         Dec 16, 2017  fake  \n",
       "44897    October 19, 2017   real  \n",
       "\n",
       "[44898 rows x 5 columns]"
      ]
     },
     "execution_count": 128,
     "metadata": {},
     "output_type": "execute_result"
    }
   ],
   "source": [
    "df_news"
   ]
  },
  {
   "cell_type": "markdown",
   "id": "7dd9d862",
   "metadata": {},
   "source": [
    "### 2.1 Data Cleaning<a id=\"21\"></a>\n",
    "Es importante mantener solo los features que más nos interesan, es por ello que vamos a eliminar todo lo que no este relacionado con el texto. Ya que la naturaleza de esta tarea es la clasificación mediante el texto. Del mismo modo, tenemos que eliminar los atributos que tengan muchos valores nulos."
   ]
  },
  {
   "cell_type": "code",
   "execution_count": 129,
   "id": "4f3f4178",
   "metadata": {},
   "outputs": [
    {
     "data": {
      "text/plain": [
       "<AxesSubplot:>"
      ]
     },
     "execution_count": 129,
     "metadata": {},
     "output_type": "execute_result"
    },
    {
     "data": {
      "image/png": "[encoded data removed]",
      "text/plain": [
       "<Figure size 2500x1000 with 2 Axes>"
      ]
     },
     "metadata": {},
     "output_type": "display_data"
    }
   ],
   "source": [
    "msno.matrix(df_news)"
   ]
  },
  {
   "cell_type": "markdown",
   "id": "3b79b03f",
   "metadata": {},
   "source": [
    "Como podemos observar, no encontramos valores nulos, es por ello que no es necesario eliminar columnas por falta de valores."
   ]
  },
  {
   "cell_type": "markdown",
   "id": "3f79fdd3",
   "metadata": {},
   "source": [
    "###  2.2 Data Wrangling / Preprocessing<a id=\"22\"></a>\n",
    "El data Wrangling es el proceso de transformar y mappear los datos a un formato estandar. En nuestro caso, al estar trabajando con texto, intentaremos normalizar los datos intentando perder la menor cantidad de información.\n",
    "Para ello es posible que generemos nuevas columnas a partir de la información extraida en el texto. Esta parte corresponde una parte importante del trabajo.,"
   ]
  },
  {
   "cell_type": "code",
   "execution_count": 130,
   "id": "85568c79",
   "metadata": {},
   "outputs": [
    {
     "data": {
      "text/html": [
       "<div>\n",
       "<style scoped>\n",
       "    .dataframe tbody tr th:only-of-type {\n",
       "        vertical-align: middle;\n",
       "    }\n",
       "\n",
       "    .dataframe tbody tr th {\n",
       "        vertical-align: top;\n",
       "    }\n",
       "\n",
       "    .dataframe thead th {\n",
       "        text-align: right;\n",
       "    }\n",
       "</style>\n",
       "<table border=\"1\" class=\"dataframe\">\n",
       "  <thead>\n",
       "    <tr style=\"text-align: right;\">\n",
       "      <th></th>\n",
       "      <th>title</th>\n",
       "      <th>text</th>\n",
       "      <th>subject</th>\n",
       "      <th>date</th>\n",
       "      <th>label</th>\n",
       "    </tr>\n",
       "  </thead>\n",
       "  <tbody>\n",
       "    <tr>\n",
       "      <th>0</th>\n",
       "      <td>Donald Trump Insults Obama: ‘I Wonder If They...</td>\n",
       "      <td>Republican presidential frontrunner Donald Tru...</td>\n",
       "      <td>News</td>\n",
       "      <td>March 22, 2016</td>\n",
       "      <td>fake</td>\n",
       "    </tr>\n",
       "    <tr>\n",
       "      <th>1</th>\n",
       "      <td>SUPER TUESDAY PROJECTION MAP FROM REAL CLEAR P...</td>\n",
       "      <td>Here s the projection from Real Clear Politics...</td>\n",
       "      <td>politics</td>\n",
       "      <td>Feb 29, 2016</td>\n",
       "      <td>fake</td>\n",
       "    </tr>\n",
       "    <tr>\n",
       "      <th>2</th>\n",
       "      <td>LIBERAL HEADS EXPLODE! Trump Donates First Pay...</td>\n",
       "      <td>President Trump just made liberal heads explod...</td>\n",
       "      <td>left-news</td>\n",
       "      <td>Jul 5, 2017</td>\n",
       "      <td>fake</td>\n",
       "    </tr>\n",
       "    <tr>\n",
       "      <th>3</th>\n",
       "      <td>Oklahoma Republican: God Will Pay Legal Expen...</td>\n",
       "      <td>Republican delusion never ceases to reach new ...</td>\n",
       "      <td>News</td>\n",
       "      <td>April 23, 2016</td>\n",
       "      <td>fake</td>\n",
       "    </tr>\n",
       "    <tr>\n",
       "      <th>4</th>\n",
       "      <td>McCain vows to block proposed separation of NS...</td>\n",
       "      <td>WASHINGTON (Reuters) - U.S. Senator John McCai...</td>\n",
       "      <td>politicsNews</td>\n",
       "      <td>September 13, 2016</td>\n",
       "      <td>real</td>\n",
       "    </tr>\n",
       "    <tr>\n",
       "      <th>...</th>\n",
       "      <td>...</td>\n",
       "      <td>...</td>\n",
       "      <td>...</td>\n",
       "      <td>...</td>\n",
       "      <td>...</td>\n",
       "    </tr>\n",
       "    <tr>\n",
       "      <th>44893</th>\n",
       "      <td>Sixteen killed in attacks on remote Mozambique...</td>\n",
       "      <td>MAPUTO (Reuters) - Gun battles last week betwe...</td>\n",
       "      <td>worldnews</td>\n",
       "      <td>October 9, 2017</td>\n",
       "      <td>real</td>\n",
       "    </tr>\n",
       "    <tr>\n",
       "      <th>44894</th>\n",
       "      <td>U.S. Senate advances Iran sanctions bill, eyes...</td>\n",
       "      <td>WASHINGTON (Reuters) - The U.S. Senate voted o...</td>\n",
       "      <td>politicsNews</td>\n",
       "      <td>June 7, 2017</td>\n",
       "      <td>real</td>\n",
       "    </tr>\n",
       "    <tr>\n",
       "      <th>44895</th>\n",
       "      <td>Russian MP says Flynn resignation may show Whi...</td>\n",
       "      <td>MOSCOW (Reuters) - A senior Russian lawmaker s...</td>\n",
       "      <td>politicsNews</td>\n",
       "      <td>February 14, 2017</td>\n",
       "      <td>real</td>\n",
       "    </tr>\n",
       "    <tr>\n",
       "      <th>44896</th>\n",
       "      <td>Liberal, Man-Hating Movement DESTROYS Career O...</td>\n",
       "      <td>Lauren McGaughy of The Dallas Morning News di...</td>\n",
       "      <td>politics</td>\n",
       "      <td>Dec 16, 2017</td>\n",
       "      <td>fake</td>\n",
       "    </tr>\n",
       "    <tr>\n",
       "      <th>44897</th>\n",
       "      <td>France's Macron says EU all united on Brexit t...</td>\n",
       "      <td>BRUSSELS (Reuters) - French President Emmanuel...</td>\n",
       "      <td>worldnews</td>\n",
       "      <td>October 19, 2017</td>\n",
       "      <td>real</td>\n",
       "    </tr>\n",
       "  </tbody>\n",
       "</table>\n",
       "<p>44898 rows × 5 columns</p>\n",
       "</div>"
      ],
      "text/plain": [
       "                                                   title  \\\n",
       "0       Donald Trump Insults Obama: ‘I Wonder If They...   \n",
       "1      SUPER TUESDAY PROJECTION MAP FROM REAL CLEAR P...   \n",
       "2      LIBERAL HEADS EXPLODE! Trump Donates First Pay...   \n",
       "3       Oklahoma Republican: God Will Pay Legal Expen...   \n",
       "4      McCain vows to block proposed separation of NS...   \n",
       "...                                                  ...   \n",
       "44893  Sixteen killed in attacks on remote Mozambique...   \n",
       "44894  U.S. Senate advances Iran sanctions bill, eyes...   \n",
       "44895  Russian MP says Flynn resignation may show Whi...   \n",
       "44896  Liberal, Man-Hating Movement DESTROYS Career O...   \n",
       "44897  France's Macron says EU all united on Brexit t...   \n",
       "\n",
       "                                                    text       subject  \\\n",
       "0      Republican presidential frontrunner Donald Tru...          News   \n",
       "1      Here s the projection from Real Clear Politics...      politics   \n",
       "2      President Trump just made liberal heads explod...     left-news   \n",
       "3      Republican delusion never ceases to reach new ...          News   \n",
       "4      WASHINGTON (Reuters) - U.S. Senator John McCai...  politicsNews   \n",
       "...                                                  ...           ...   \n",
       "44893  MAPUTO (Reuters) - Gun battles last week betwe...     worldnews   \n",
       "44894  WASHINGTON (Reuters) - The U.S. Senate voted o...  politicsNews   \n",
       "44895  MOSCOW (Reuters) - A senior Russian lawmaker s...  politicsNews   \n",
       "44896   Lauren McGaughy of The Dallas Morning News di...      politics   \n",
       "44897  BRUSSELS (Reuters) - French President Emmanuel...     worldnews   \n",
       "\n",
       "                      date label  \n",
       "0           March 22, 2016  fake  \n",
       "1             Feb 29, 2016  fake  \n",
       "2              Jul 5, 2017  fake  \n",
       "3           April 23, 2016  fake  \n",
       "4      September 13, 2016   real  \n",
       "...                    ...   ...  \n",
       "44893     October 9, 2017   real  \n",
       "44894        June 7, 2017   real  \n",
       "44895   February 14, 2017   real  \n",
       "44896         Dec 16, 2017  fake  \n",
       "44897    October 19, 2017   real  \n",
       "\n",
       "[44898 rows x 5 columns]"
      ]
     },
     "execution_count": 130,
     "metadata": {},
     "output_type": "execute_result"
    }
   ],
   "source": [
    "df_news"
   ]
  },
  {
   "cell_type": "code",
   "execution_count": 131,
   "id": "5f4b7530",
   "metadata": {},
   "outputs": [
    {
     "data": {
      "text/plain": [
       "'On Christmas day, Donald Trump announced that he would  be back to work  the following day, but he is golfing for the fourth day in a row. The former reality show star blasted former President Barack Obama for playing golf and now Trump is on track to outpace the number of golf games his predecessor played.Updated my tracker of Trump s appearances at Trump properties.71 rounds of golf including today s. At this pace, he ll pass Obama s first-term total by July 24 next year. https://t.co/Fg7VacxRtJ pic.twitter.com/5gEMcjQTbH  Philip Bump (@pbump) December 29, 2017 That makes what a Washington Post reporter discovered on Trump s website really weird, but everything about this administration is bizarre AF. The coding contained a reference to Obama and golf:  Unlike Obama, we are working to fix the problem   and not on the golf course.  However, the coding wasn t done correctly.The website of Donald Trump, who has spent several days in a row at the golf course, is coded to serve up the following message in the event of an internal server error: https://t.co/zrWpyMXRcz pic.twitter.com/wiQSQNNzw0  Christopher Ingraham (@_cingraham) December 28, 2017That snippet of code appears to be on all https://t.co/dkhw0AlHB4 pages, which the footer says is paid for by the RNC? pic.twitter.com/oaZDT126B3  Christopher Ingraham (@_cingraham) December 28, 2017It s also all over https://t.co/ayBlGmk65Z. As others have noted in this thread, this is weird code and it s not clear it would ever actually display, but who knows.  Christopher Ingraham (@_cingraham) December 28, 2017After the coding was called out, the reference to Obama was deleted.UPDATE: The golf error message has been removed from the Trump and GOP websites. They also fixed the javascript  =  vs  ==  problem. Still not clear when these messages would actually display, since the actual 404 (and presumably 500) page displays a different message pic.twitter.com/Z7dmyQ5smy  Christopher Ingraham (@_cingraham) December 29, 2017That suggests someone at either RNC or the Trump admin is sensitive enough to Trump s golf problem to make this issue go away quickly once people noticed. You have no idea how much I d love to see the email exchange that led us here.  Christopher Ingraham (@_cingraham) December 29, 2017 The code was f-cked up.The best part about this is that they are using the  =  (assignment) operator which means that bit of code will never get run. If you look a few lines up  errorCode  will always be  404          (@tw1trsux) December 28, 2017trump s coders can t code. Nobody is surprised.  Tim Peterson (@timrpeterson) December 28, 2017Donald Trump is obsessed with Obama that his name was even in the coding of his website while he played golf again.Photo by Joe Raedle/Getty Images.'"
      ]
     },
     "execution_count": 131,
     "metadata": {},
     "output_type": "execute_result"
    }
   ],
   "source": [
    "df_fake[\"text\"][3]"
   ]
  },
  {
   "cell_type": "code",
   "execution_count": 132,
   "id": "10278b0c",
   "metadata": {},
   "outputs": [
    {
     "data": {
      "text/plain": [
       "'WASHINGTON (Reuters) - Trump campaign adviser George Papadopoulos told an Australian diplomat in May 2016 that Russia had political dirt on Democratic presidential candidate Hillary Clinton, the New York Times reported on Saturday. The conversation between Papadopoulos and the diplomat, Alexander Downer, in London was a driving factor behind the FBI’s decision to open a counter-intelligence investigation of Moscow’s contacts with the Trump campaign, the Times reported. Two months after the meeting, Australian officials passed the information that came from Papadopoulos to their American counterparts when leaked Democratic emails began appearing online, according to the newspaper, which cited four current and former U.S. and foreign officials. Besides the information from the Australians, the probe by the Federal Bureau of Investigation was also propelled by intelligence from other friendly governments, including the British and Dutch, the Times said. Papadopoulos, a Chicago-based international energy lawyer, pleaded guilty on Oct. 30 to lying to FBI agents about contacts with people who claimed to have ties to top Russian officials. It was the first criminal charge alleging links between the Trump campaign and Russia. The White House has played down the former aide’s campaign role, saying it was “extremely limited” and that any actions he took would have been on his own. The New York Times, however, reported that Papadopoulos helped set up a meeting between then-candidate Donald Trump and Egyptian President Abdel Fattah al-Sisi and edited the outline of Trump’s first major foreign policy speech in April 2016. The federal investigation, which is now being led by Special Counsel Robert Mueller, has hung over Trump’s White House since he took office almost a year ago. Some Trump allies have recently accused Mueller’s team of being biased against the Republican president. Lawyers for Papadopoulos did not immediately respond to requests by Reuters for comment. Mueller’s office declined to comment. Trump’s White House attorney, Ty Cobb, declined to comment on the New York Times report. “Out of respect for the special counsel and his process, we are not commenting on matters such as this,” he said in a statement. Mueller has charged four Trump associates, including Papadopoulos, in his investigation. Russia has denied interfering in the U.S. election and Trump has said there was no collusion between his campaign and Moscow. '"
      ]
     },
     "execution_count": 132,
     "metadata": {},
     "output_type": "execute_result"
    }
   ],
   "source": [
    "df_real[\"text\"][3]"
   ]
  },
  {
   "cell_type": "markdown",
   "id": "bcb2f762",
   "metadata": {},
   "source": [
    "Despues de visualizar varias instancias de diferente clase, se han observado diferencias:\n",
    "1. **Longitud:** Las noticias reales tienden a ser más largas.\n",
    "2. **Menciones:** Las noticias falsas tienden a tener @ de twitter, lo cual hace que no sea una fuente muy fiable.\n",
    "3. **URL:** Las noticias falsas tienden a tener mas URL que las verdaderas."
   ]
  },
  {
   "cell_type": "markdown",
   "id": "49c3b6ff",
   "metadata": {},
   "source": [
    "### 1. Longitud en base a la clase"
   ]
  },
  {
   "cell_type": "code",
   "execution_count": 133,
   "id": "5042506e",
   "metadata": {},
   "outputs": [],
   "source": [
    "def count_word_number(phrase):\n",
    "    return len(phrase.split())"
   ]
  },
  {
   "cell_type": "code",
   "execution_count": 134,
   "id": "7e408c62",
   "metadata": {},
   "outputs": [],
   "source": [
    "# Añadir una columna con la longitud de la frase.\n",
    "df_fake['len'] = df_fake.apply(lambda row : count_word_number(row['text']), axis = 1)\n",
    "df_real['len'] = df_real.apply(lambda row : count_word_number(row['text']), axis = 1)"
   ]
  },
  {
   "cell_type": "code",
   "execution_count": 135,
   "id": "8bb3bfd6",
   "metadata": {
    "scrolled": true
   },
   "outputs": [
    {
     "data": {
      "text/plain": [
       "<BarContainer object of 2 artists>"
      ]
     },
     "execution_count": 135,
     "metadata": {},
     "output_type": "execute_result"
    },
    {
     "data": {
      "image/png": "[encoded data removed]",
      "text/plain": [
       "<Figure size 640x480 with 1 Axes>"
      ]
     },
     "metadata": {},
     "output_type": "display_data"
    }
   ],
   "source": [
    "plt.bar([\"Real\",\"Fake\"], [df_fake['len'].mean(),df_real['len'].mean()])"
   ]
  },
  {
   "cell_type": "code",
   "execution_count": 136,
   "id": "3f7c79cc",
   "metadata": {},
   "outputs": [
    {
     "data": {
      "image/png": "[encoded data removed]",
      "text/plain": [
       "<Figure size 1200x800 with 2 Axes>"
      ]
     },
     "metadata": {},
     "output_type": "display_data"
    }
   ],
   "source": [
    "fig,(ax1,ax2)=plt.subplots(1,2,figsize=(12,8))\n",
    "ax1.hist(df_fake['len'],color='red')\n",
    "ax1.set_title('Fake Text')\n",
    "ax2.hist(df_real[\"len\"],color='green')\n",
    "ax2.set_title('Real text')\n",
    "fig.suptitle('Characters in texts')\n",
    "plt.show()"
   ]
  },
  {
   "cell_type": "markdown",
   "id": "3d1633c8",
   "metadata": {},
   "source": [
    "### 2. Menciones\n",
    "\n",
    "Como hemos mencionado anteriormente, es muy común utilizar menciones en redes sociales, es por ello que las noticias extraidas directamente de estas tienden a ser falsas."
   ]
  },
  {
   "cell_type": "code",
   "execution_count": 137,
   "id": "b62172c4",
   "metadata": {},
   "outputs": [],
   "source": [
    "def count_twitters_user(df):\n",
    "    twitter_username_re = re.compile(r'@([A-Za-z0-9_]+)')\n",
    "    count = 0\n",
    "    list_ = []\n",
    "    for text in df['text']:\n",
    "        count += len(re.findall(twitter_username_re, text))\n",
    "    return count"
   ]
  },
  {
   "cell_type": "code",
   "execution_count": 138,
   "id": "403e0f0d",
   "metadata": {},
   "outputs": [
    {
     "data": {
      "text/plain": [
       "<BarContainer object of 2 artists>"
      ]
     },
     "execution_count": 138,
     "metadata": {},
     "output_type": "execute_result"
    },
    {
     "data": {
      "image/png": "[encoded data removed]",
      "text/plain": [
       "<Figure size 640x480 with 1 Axes>"
      ]
     },
     "metadata": {},
     "output_type": "display_data"
    }
   ],
   "source": [
    "plt.bar([\"Fake\",\"Real\"],[count_twitters_user(df_fake),count_twitters_user(df_real)])"
   ]
  },
  {
   "cell_type": "markdown",
   "id": "ea19252b",
   "metadata": {},
   "source": [
    "Como se puede observar, existe una clara correlación entre la clase y la cantidad de menciones que se realizan en una noticia. Para analizar la corelación, vamos a usar Analysis of Variance (ANOVA)"
   ]
  },
  {
   "cell_type": "markdown",
   "id": "9090425c",
   "metadata": {},
   "source": [
    "### 3. URL"
   ]
  },
  {
   "cell_type": "code",
   "execution_count": 140,
   "id": "1f86d0c7",
   "metadata": {},
   "outputs": [],
   "source": [
    "def count_url(df):\n",
    "    url_re = re.compile(r'(http|ftp|https):\\/\\/([\\w_-]+(?:(?:\\.[\\w_-]+)+))([\\w.,@?^=%&:\\/~+#-]*[\\w@?^=%&\\/~+#-])')\n",
    "    count = 0\n",
    "    list_ = []\n",
    "    for text in df['text']:\n",
    "        count += len(re.findall(url_re, text))\n",
    "    return count\n",
    "\n",
    "def count_mention_text(text):\n",
    "    twitter_username_re = re.compile(r'@([A-Za-z0-9_]+)')\n",
    "    count = len(re.findall(twitter_username_re, text))\n",
    "    return count"
   ]
  },
  {
   "cell_type": "code",
   "execution_count": 141,
   "id": "3efd9150",
   "metadata": {},
   "outputs": [
    {
     "data": {
      "text/plain": [
       "<BarContainer object of 2 artists>"
      ]
     },
     "execution_count": 141,
     "metadata": {},
     "output_type": "execute_result"
    },
    {
     "data": {
      "image/png": "[encoded data removed]",
      "text/plain": [
       "<Figure size 640x480 with 1 Axes>"
      ]
     },
     "metadata": {},
     "output_type": "display_data"
    }
   ],
   "source": [
    "plt.bar([\"Fake\",\"Real\"],[count_url(df_fake),count_url(df_real)])"
   ]
  },
  {
   "cell_type": "markdown",
   "id": "6c4388a7",
   "metadata": {},
   "source": [
    "### 2.3 Feature Selection<a id=\"23\"></a>\n",
    "En este apartado vamos a seleccionar los atributos que nos interesan para nuestro conjunto de datos.\n"
   ]
  },
  {
   "cell_type": "code",
   "execution_count": 142,
   "id": "f817b450",
   "metadata": {},
   "outputs": [],
   "source": [
    "df_news.drop([\"subject\",\"date\"],axis=1,inplace=True)"
   ]
  },
  {
   "cell_type": "markdown",
   "id": "31cc3ce5",
   "metadata": {},
   "source": [
    "Primero eliminaremos estas dos columnas originales del conjunto de datos, ya que no nos interesan para la tarea a realizar.\n",
    "\n",
    "Por otro lado, hemos observado de forma superficial la correlación entre la clase y la cantidad de menciones, es por ello que vamos añadirlo al conjunto de datos. Este atributo es valido debido a que está extraido directamente del texto."
   ]
  },
  {
   "cell_type": "code",
   "execution_count": 143,
   "id": "72407838",
   "metadata": {},
   "outputs": [],
   "source": [
    "df_news['has_mentions'] = df_news.apply(lambda row : count_mention_text(row['text'])>1, axis = 1)"
   ]
  },
  {
   "cell_type": "markdown",
   "id": "6118b436",
   "metadata": {},
   "source": [
    "### 2.4 Final Dataframe <a id=\"24\"></a>"
   ]
  },
  {
   "cell_type": "code",
   "execution_count": 144,
   "id": "c8610700",
   "metadata": {},
   "outputs": [],
   "source": [
    "df_news.to_csv(\"./Data/news.csv\",index=False)"
   ]
  },
  {
   "cell_type": "markdown",
   "id": "d2308e49",
   "metadata": {},
   "source": [
    "<hr>"
   ]
  },
  {
   "cell_type": "markdown",
   "id": "220f876b",
   "metadata": {},
   "source": [
    "## Exploratory data Analysis (EDA) <a id=\"3\">\n",
    "    \n",
    "En este apartado analizaremos los datos y sacaramos información que nos será de relevancia."
   ]
  },
  {
   "cell_type": "code",
   "execution_count": 145,
   "id": "76759723",
   "metadata": {},
   "outputs": [],
   "source": [
    "df = pd.read_csv(\"./Data/news.csv\")"
   ]
  },
  {
   "cell_type": "code",
   "execution_count": 151,
   "id": "0f184533",
   "metadata": {},
   "outputs": [],
   "source": [
    "df.loc[(df.label == 'real'),'label']=1  \n",
    "df.loc[(df.label == 'fake'),'label']=0\n",
    "df.loc[(df.has_mentions == 'True'),'has_mentions']=1  \n",
    "df.loc[(df.has_mentions == 'False'),'has_mentions']=0"
   ]
  },
  {
   "cell_type": "markdown",
   "id": "9930dd79",
   "metadata": {},
   "source": [
    "De este modo damos un valor numerico a la clase a predecir, lo cambiaremos mas adelante, pero por ahora lo tendremos como numerico para las métricas."
   ]
  },
  {
   "cell_type": "markdown",
   "id": "7c1ffcc8",
   "metadata": {},
   "source": [
    "### Descriptive Statistical Analysis<a id=\"31\">"
   ]
  },
  {
   "cell_type": "markdown",
   "id": "7e1ae001",
   "metadata": {},
   "source": [
    "### Correlation and Causation<a id=\"32\">"
   ]
  },
  {
   "cell_type": "code",
   "execution_count": 152,
   "id": "74e88a6b",
   "metadata": {},
   "outputs": [
    {
     "data": {
      "text/html": [
       "<div>\n",
       "<style scoped>\n",
       "    .dataframe tbody tr th:only-of-type {\n",
       "        vertical-align: middle;\n",
       "    }\n",
       "\n",
       "    .dataframe tbody tr th {\n",
       "        vertical-align: top;\n",
       "    }\n",
       "\n",
       "    .dataframe thead th {\n",
       "        text-align: right;\n",
       "    }\n",
       "</style>\n",
       "<table border=\"1\" class=\"dataframe\">\n",
       "  <thead>\n",
       "    <tr style=\"text-align: right;\">\n",
       "      <th></th>\n",
       "      <th>title</th>\n",
       "      <th>text</th>\n",
       "      <th>label</th>\n",
       "      <th>has_mentions</th>\n",
       "    </tr>\n",
       "  </thead>\n",
       "  <tbody>\n",
       "    <tr>\n",
       "      <th>0</th>\n",
       "      <td>Donald Trump Insults Obama: ‘I Wonder If They...</td>\n",
       "      <td>Republican presidential frontrunner Donald Tru...</td>\n",
       "      <td>0</td>\n",
       "      <td>False</td>\n",
       "    </tr>\n",
       "    <tr>\n",
       "      <th>1</th>\n",
       "      <td>SUPER TUESDAY PROJECTION MAP FROM REAL CLEAR P...</td>\n",
       "      <td>Here s the projection from Real Clear Politics...</td>\n",
       "      <td>0</td>\n",
       "      <td>False</td>\n",
       "    </tr>\n",
       "    <tr>\n",
       "      <th>2</th>\n",
       "      <td>LIBERAL HEADS EXPLODE! Trump Donates First Pay...</td>\n",
       "      <td>President Trump just made liberal heads explod...</td>\n",
       "      <td>0</td>\n",
       "      <td>False</td>\n",
       "    </tr>\n",
       "    <tr>\n",
       "      <th>3</th>\n",
       "      <td>Oklahoma Republican: God Will Pay Legal Expen...</td>\n",
       "      <td>Republican delusion never ceases to reach new ...</td>\n",
       "      <td>0</td>\n",
       "      <td>False</td>\n",
       "    </tr>\n",
       "    <tr>\n",
       "      <th>4</th>\n",
       "      <td>McCain vows to block proposed separation of NS...</td>\n",
       "      <td>WASHINGTON (Reuters) - U.S. Senator John McCai...</td>\n",
       "      <td>1</td>\n",
       "      <td>False</td>\n",
       "    </tr>\n",
       "    <tr>\n",
       "      <th>...</th>\n",
       "      <td>...</td>\n",
       "      <td>...</td>\n",
       "      <td>...</td>\n",
       "      <td>...</td>\n",
       "    </tr>\n",
       "    <tr>\n",
       "      <th>44893</th>\n",
       "      <td>Sixteen killed in attacks on remote Mozambique...</td>\n",
       "      <td>MAPUTO (Reuters) - Gun battles last week betwe...</td>\n",
       "      <td>1</td>\n",
       "      <td>False</td>\n",
       "    </tr>\n",
       "    <tr>\n",
       "      <th>44894</th>\n",
       "      <td>U.S. Senate advances Iran sanctions bill, eyes...</td>\n",
       "      <td>WASHINGTON (Reuters) - The U.S. Senate voted o...</td>\n",
       "      <td>1</td>\n",
       "      <td>False</td>\n",
       "    </tr>\n",
       "    <tr>\n",
       "      <th>44895</th>\n",
       "      <td>Russian MP says Flynn resignation may show Whi...</td>\n",
       "      <td>MOSCOW (Reuters) - A senior Russian lawmaker s...</td>\n",
       "      <td>1</td>\n",
       "      <td>False</td>\n",
       "    </tr>\n",
       "    <tr>\n",
       "      <th>44896</th>\n",
       "      <td>Liberal, Man-Hating Movement DESTROYS Career O...</td>\n",
       "      <td>Lauren McGaughy of The Dallas Morning News di...</td>\n",
       "      <td>0</td>\n",
       "      <td>False</td>\n",
       "    </tr>\n",
       "    <tr>\n",
       "      <th>44897</th>\n",
       "      <td>France's Macron says EU all united on Brexit t...</td>\n",
       "      <td>BRUSSELS (Reuters) - French President Emmanuel...</td>\n",
       "      <td>1</td>\n",
       "      <td>False</td>\n",
       "    </tr>\n",
       "  </tbody>\n",
       "</table>\n",
       "<p>44898 rows × 4 columns</p>\n",
       "</div>"
      ],
      "text/plain": [
       "                                                   title  \\\n",
       "0       Donald Trump Insults Obama: ‘I Wonder If They...   \n",
       "1      SUPER TUESDAY PROJECTION MAP FROM REAL CLEAR P...   \n",
       "2      LIBERAL HEADS EXPLODE! Trump Donates First Pay...   \n",
       "3       Oklahoma Republican: God Will Pay Legal Expen...   \n",
       "4      McCain vows to block proposed separation of NS...   \n",
       "...                                                  ...   \n",
       "44893  Sixteen killed in attacks on remote Mozambique...   \n",
       "44894  U.S. Senate advances Iran sanctions bill, eyes...   \n",
       "44895  Russian MP says Flynn resignation may show Whi...   \n",
       "44896  Liberal, Man-Hating Movement DESTROYS Career O...   \n",
       "44897  France's Macron says EU all united on Brexit t...   \n",
       "\n",
       "                                                    text label has_mentions  \n",
       "0      Republican presidential frontrunner Donald Tru...     0        False  \n",
       "1      Here s the projection from Real Clear Politics...     0        False  \n",
       "2      President Trump just made liberal heads explod...     0        False  \n",
       "3      Republican delusion never ceases to reach new ...     0        False  \n",
       "4      WASHINGTON (Reuters) - U.S. Senator John McCai...     1        False  \n",
       "...                                                  ...   ...          ...  \n",
       "44893  MAPUTO (Reuters) - Gun battles last week betwe...     1        False  \n",
       "44894  WASHINGTON (Reuters) - The U.S. Senate voted o...     1        False  \n",
       "44895  MOSCOW (Reuters) - A senior Russian lawmaker s...     1        False  \n",
       "44896   Lauren McGaughy of The Dallas Morning News di...     0        False  \n",
       "44897  BRUSSELS (Reuters) - French President Emmanuel...     1        False  \n",
       "\n",
       "[44898 rows x 4 columns]"
      ]
     },
     "execution_count": 152,
     "metadata": {},
     "output_type": "execute_result"
    }
   ],
   "source": [
    "df"
   ]
  },
  {
   "cell_type": "code",
   "execution_count": 155,
   "id": "09900416",
   "metadata": {},
   "outputs": [
    {
     "data": {
      "text/plain": [
       "-0.26349296331848937"
      ]
     },
     "execution_count": 155,
     "metadata": {},
     "output_type": "execute_result"
    }
   ],
   "source": [
    "df['label']=np.float64(df['label'])\n",
    "df['has_mentions']=np.float64(df['has_mentions'])\n",
    "df['has_mentions'].corr(df['label'])"
   ]
  },
  {
   "cell_type": "markdown",
   "id": "7f9ce488",
   "metadata": {},
   "source": [
    "De este modo comprobamos que nuestra suposición no era la mas correcta, ya que no hay una clara correspondencia entre estos dos atributos."
   ]
  },
  {
   "cell_type": "markdown",
   "id": "d0e908b4",
   "metadata": {},
   "source": [
    "### Value counts<a id=\"33\">"
   ]
  },
  {
   "cell_type": "code",
   "execution_count": 95,
   "id": "f89e9a5d",
   "metadata": {},
   "outputs": [],
   "source": []
  },
  {
   "cell_type": "markdown",
   "id": "b70bedda",
   "metadata": {},
   "source": [
    "### Grouping<a id=\"34\">"
   ]
  },
  {
   "cell_type": "code",
   "execution_count": 98,
   "id": "91977c94",
   "metadata": {
    "scrolled": true
   },
   "outputs": [
    {
     "data": {
      "text/html": [
       "<div>\n",
       "<style scoped>\n",
       "    .dataframe tbody tr th:only-of-type {\n",
       "        vertical-align: middle;\n",
       "    }\n",
       "\n",
       "    .dataframe tbody tr th {\n",
       "        vertical-align: top;\n",
       "    }\n",
       "\n",
       "    .dataframe thead th {\n",
       "        text-align: right;\n",
       "    }\n",
       "</style>\n",
       "<table border=\"1\" class=\"dataframe\">\n",
       "  <thead>\n",
       "    <tr style=\"text-align: right;\">\n",
       "      <th></th>\n",
       "      <th>n_mentions</th>\n",
       "    </tr>\n",
       "  </thead>\n",
       "  <tbody>\n",
       "    <tr>\n",
       "      <th>n_mentions</th>\n",
       "      <td>1.0</td>\n",
       "    </tr>\n",
       "  </tbody>\n",
       "</table>\n",
       "</div>"
      ],
      "text/plain": [
       "            n_mentions\n",
       "n_mentions         1.0"
      ]
     },
     "execution_count": 98,
     "metadata": {},
     "output_type": "execute_result"
    }
   ],
   "source": []
  },
  {
   "cell_type": "markdown",
   "id": "0c88dced",
   "metadata": {},
   "source": [
    "### ANOVA<a id=\"35\">"
   ]
  },
  {
   "cell_type": "code",
   "execution_count": null,
   "id": "c2bff5bc",
   "metadata": {},
   "outputs": [],
   "source": []
  },
  {
   "cell_type": "markdown",
   "id": "92248910",
   "metadata": {},
   "source": [
    "<hr>"
   ]
  },
  {
   "cell_type": "markdown",
   "id": "58e40180",
   "metadata": {},
   "source": [
    "# Text Representation <a id=\"4\">"
   ]
  },
  {
   "cell_type": "markdown",
   "id": "28549ea5",
   "metadata": {},
   "source": [
    "## GloVE <a id=\"41\">"
   ]
  },
  {
   "cell_type": "markdown",
   "id": "466c97a4",
   "metadata": {},
   "source": []
  },
  {
   "cell_type": "markdown",
   "id": "4eb9edcb",
   "metadata": {},
   "source": [
    "## Word Embedding <a id=\"42\">"
   ]
  },
  {
   "cell_type": "code",
   "execution_count": null,
   "id": "2e50b2e9",
   "metadata": {},
   "outputs": [],
   "source": []
  },
  {
   "cell_type": "markdown",
   "id": "1c548db3",
   "metadata": {},
   "source": [
    "<hr>"
   ]
  },
  {
   "cell_type": "markdown",
   "id": "14a5e580",
   "metadata": {},
   "source": [
    "# Model Development <a id=\"5\">"
   ]
  },
  {
   "cell_type": "code",
   "execution_count": null,
   "id": "0b2ae785",
   "metadata": {},
   "outputs": [],
   "source": []
  }
 ],
 "metadata": {
  "kernelspec": {
   "display_name": "Python 3 (ipykernel)",
   "language": "python",
   "name": "python3"
  },
  "language_info": {
   "codemirror_mode": {
    "name": "ipython",
    "version": 3
   },
   "file_extension": ".py",
   "mimetype": "text/x-python",
   "name": "python",
   "nbconvert_exporter": "python",
   "pygments_lexer": "ipython3",
   "version": "3.8.11"
  }
 },
 "nbformat": 4,
 "nbformat_minor": 5
}
