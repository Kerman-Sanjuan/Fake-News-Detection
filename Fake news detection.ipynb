{
 "cells": [
  {
   "cell_type": "markdown",
   "id": "959c00a9",
   "metadata": {},
   "source": [
    "<a href=\"https://cognitiveclass.ai\"><img src = \"https://imagenes.20minutos.es/files/article_amp/uploads/imagenes/2021/01/28/corruption-2727571-1280-1.png\" width = 400> </a>\n",
    "\n",
    "<h1 align=center><font size = 6>Fake news detection through Machine Learning</font></h1>"
   ]
  },
  {
   "cell_type": "markdown",
   "id": "c533fb66",
   "metadata": {},
   "source": [
    "## Indice\n",
    "\n",
    "<div class=\"alert alert-block alert-info\" style=\"margin-top: 20px\">\n",
    "\n",
    "1. [Introduction](#1)<br>\n",
    "2. [Data adquisition and cleaning](#2)<br>\n",
    "    1. [Data Cleaning](#21)\n",
    "    2. [Data Wrangling / Preprocessing](#22)\n",
    "    3. [Feature Selection](#23)\n",
    "    4. [Final Dataframe](#24)\n",
    "3. [Exploratory data Analysis (EDA)](#3) <br>\n",
    "    1. [Descriptive Statistical Analysis](#31)\n",
    "    2. [Correlation and Causation](#32)\n",
    "    3. [Word Cloud](#33)\n",
    "    4. [Grouping](#34)\n",
    "    5. [ANOVA](#35)\n",
    "4. [Text Representation](#4) <br>\n",
    "    1. [GloVE](#41)\n",
    "    2. [Word Embedding](#42)\n",
    "6. [Model Development](#5) <br>\n",
    "    1. [Logistic Regresssion](#51)\n",
    "    2. [Neural Networks](#52)\n",
    "6. [Model Evaluation and Refinement](#6) <br>\n",
    "7. [Results](#7) <br>\n",
    "8. [Conclusion](#8) <br> \n",
    "</div>\n",
    "<hr>"
   ]
  },
  {
   "cell_type": "markdown",
   "id": "3892b017",
   "metadata": {},
   "source": [
    "## Introduction <a id=\"1\"></a>\n",
    "\n",
    "Como se menciona en el titulo, vamos a diseñar un modelo de predicción orientado a la detección de noticias falsas. Para esta tarea emplearemos dos formas diferentes de representar palabras y utilizaremos dos modelos logísticos diferentes. A diferencia de proyectos anteriores, vamos a trabajar con dos features que son de tipo texto, añadiendo asi algo de complejidad extra al proyecto.\n",
    "\n",
    "Nuestro objetivo será comparar resultados entre representaciones diferentes y obtener un clasificador que realice de forma correcta la clasificación."
   ]
  },
  {
   "cell_type": "code",
   "execution_count": 2,
   "id": "e33e2eea",
   "metadata": {},
   "outputs": [],
   "source": [
    "import pandas as pd\n",
    "import numpy as np\n",
    "import matplotlib.pyplot as plt\n",
    "import missingno as msno\n",
    "import regex as re"
   ]
  },
  {
   "cell_type": "code",
   "execution_count": null,
   "id": "bed275c2",
   "metadata": {},
   "outputs": [],
   "source": []
  },
  {
   "cell_type": "markdown",
   "id": "c9291dc0",
   "metadata": {},
   "source": [
    "<hr>"
   ]
  },
  {
   "cell_type": "markdown",
   "id": "14833258",
   "metadata": {},
   "source": [
    "## 2. Data adquisition and cleaning<a id=\"2\"></a>\n",
    "\n",
    "Primero de todo, obtendremos el conjunto de datos."
   ]
  },
  {
   "cell_type": "code",
   "execution_count": 3,
   "id": "49411dac",
   "metadata": {},
   "outputs": [],
   "source": [
    "df_fake = pd.read_csv('./Data/Fake.csv')\n",
    "df_real = pd.read_csv('./Data/True.csv')"
   ]
  },
  {
   "cell_type": "markdown",
   "id": "6bf60600",
   "metadata": {},
   "source": [
    "Como se observa, los datos estan divididos en dos conjuntos de datos dependiendo de la clase, es por ello que vamos a unirlos para poder trabajar con mas comodidad."
   ]
  },
  {
   "cell_type": "code",
   "execution_count": 4,
   "id": "de0524f5",
   "metadata": {},
   "outputs": [],
   "source": [
    "df_fake[\"label\"] = \"fake\"\n",
    "df_real[\"label\"] = \"real\"\n",
    "df_news = pd.concat([df_fake,df_real]).sample(frac=1)\n",
    "df_news.reset_index(drop=True, inplace=True)"
   ]
  },
  {
   "cell_type": "code",
   "execution_count": 5,
   "id": "22958097",
   "metadata": {},
   "outputs": [
    {
     "data": {
      "text/html": [
       "<div>\n",
       "<style scoped>\n",
       "    .dataframe tbody tr th:only-of-type {\n",
       "        vertical-align: middle;\n",
       "    }\n",
       "\n",
       "    .dataframe tbody tr th {\n",
       "        vertical-align: top;\n",
       "    }\n",
       "\n",
       "    .dataframe thead th {\n",
       "        text-align: right;\n",
       "    }\n",
       "</style>\n",
       "<table border=\"1\" class=\"dataframe\">\n",
       "  <thead>\n",
       "    <tr style=\"text-align: right;\">\n",
       "      <th></th>\n",
       "      <th>title</th>\n",
       "      <th>text</th>\n",
       "      <th>subject</th>\n",
       "      <th>date</th>\n",
       "      <th>label</th>\n",
       "    </tr>\n",
       "  </thead>\n",
       "  <tbody>\n",
       "    <tr>\n",
       "      <th>0</th>\n",
       "      <td>Palestinian gunman kills three Israeli guards ...</td>\n",
       "      <td>HAR ADAR, West Bank (Reuters) - A Palestinian ...</td>\n",
       "      <td>worldnews</td>\n",
       "      <td>September 26, 2017</td>\n",
       "      <td>real</td>\n",
       "    </tr>\n",
       "    <tr>\n",
       "      <th>1</th>\n",
       "      <td>3 CONSERVATIVE CELEBRITIES Visited Trump Last ...</td>\n",
       "      <td>Ted Nugent is all smiles, as he s pictured wit...</td>\n",
       "      <td>left-news</td>\n",
       "      <td>Apr 20, 2017</td>\n",
       "      <td>fake</td>\n",
       "    </tr>\n",
       "    <tr>\n",
       "      <th>2</th>\n",
       "      <td>Bone fragments found in Mexico to be tested fo...</td>\n",
       "      <td>MEXICO CITY (Reuters) - Mexican authorities sa...</td>\n",
       "      <td>worldnews</td>\n",
       "      <td>December 6, 2017</td>\n",
       "      <td>real</td>\n",
       "    </tr>\n",
       "    <tr>\n",
       "      <th>3</th>\n",
       "      <td>Republicans Now Trying To Draft Billionaire M...</td>\n",
       "      <td>A group of desperate republicans which include...</td>\n",
       "      <td>News</td>\n",
       "      <td>May 15, 2016</td>\n",
       "      <td>fake</td>\n",
       "    </tr>\n",
       "    <tr>\n",
       "      <th>4</th>\n",
       "      <td>Trump’s Idiot Press Secretary Tweeted Out His...</td>\n",
       "      <td>When President Asterisk assured us he was asse...</td>\n",
       "      <td>News</td>\n",
       "      <td>January 26, 2017</td>\n",
       "      <td>fake</td>\n",
       "    </tr>\n",
       "    <tr>\n",
       "      <th>...</th>\n",
       "      <td>...</td>\n",
       "      <td>...</td>\n",
       "      <td>...</td>\n",
       "      <td>...</td>\n",
       "      <td>...</td>\n",
       "    </tr>\n",
       "    <tr>\n",
       "      <th>44893</th>\n",
       "      <td>FERGUSON FLAMETHROWER COMES OUT OF HIDING: Sla...</td>\n",
       "      <td>Holder should be making his baseless remarks f...</td>\n",
       "      <td>left-news</td>\n",
       "      <td>Oct 30, 2015</td>\n",
       "      <td>fake</td>\n",
       "    </tr>\n",
       "    <tr>\n",
       "      <th>44894</th>\n",
       "      <td>Street Performer Will Let You Punch ‘Donald T...</td>\n",
       "      <td>A street performer based in New York City is g...</td>\n",
       "      <td>News</td>\n",
       "      <td>March 20, 2016</td>\n",
       "      <td>fake</td>\n",
       "    </tr>\n",
       "    <tr>\n",
       "      <th>44895</th>\n",
       "      <td>Hungary not planning to move Israeli embassy t...</td>\n",
       "      <td>BUDAPEST (Reuters) - Hungary is not planning t...</td>\n",
       "      <td>worldnews</td>\n",
       "      <td>December 11, 2017</td>\n",
       "      <td>real</td>\n",
       "    </tr>\n",
       "    <tr>\n",
       "      <th>44896</th>\n",
       "      <td>Poland ready to defend migration stance in EU ...</td>\n",
       "      <td>WARSAW (Reuters) - Poland is ready to defend i...</td>\n",
       "      <td>worldnews</td>\n",
       "      <td>December 7, 2017</td>\n",
       "      <td>real</td>\n",
       "    </tr>\n",
       "    <tr>\n",
       "      <th>44897</th>\n",
       "      <td>Pope urges respect for human rights in Myanmar...</td>\n",
       "      <td>NAYPYITAW (Reuters) - Pope Francis on Tuesday ...</td>\n",
       "      <td>worldnews</td>\n",
       "      <td>November 28, 2017</td>\n",
       "      <td>real</td>\n",
       "    </tr>\n",
       "  </tbody>\n",
       "</table>\n",
       "<p>44898 rows × 5 columns</p>\n",
       "</div>"
      ],
      "text/plain": [
       "                                                   title  \\\n",
       "0      Palestinian gunman kills three Israeli guards ...   \n",
       "1      3 CONSERVATIVE CELEBRITIES Visited Trump Last ...   \n",
       "2      Bone fragments found in Mexico to be tested fo...   \n",
       "3       Republicans Now Trying To Draft Billionaire M...   \n",
       "4       Trump’s Idiot Press Secretary Tweeted Out His...   \n",
       "...                                                  ...   \n",
       "44893  FERGUSON FLAMETHROWER COMES OUT OF HIDING: Sla...   \n",
       "44894   Street Performer Will Let You Punch ‘Donald T...   \n",
       "44895  Hungary not planning to move Israeli embassy t...   \n",
       "44896  Poland ready to defend migration stance in EU ...   \n",
       "44897  Pope urges respect for human rights in Myanmar...   \n",
       "\n",
       "                                                    text    subject  \\\n",
       "0      HAR ADAR, West Bank (Reuters) - A Palestinian ...  worldnews   \n",
       "1      Ted Nugent is all smiles, as he s pictured wit...  left-news   \n",
       "2      MEXICO CITY (Reuters) - Mexican authorities sa...  worldnews   \n",
       "3      A group of desperate republicans which include...       News   \n",
       "4      When President Asterisk assured us he was asse...       News   \n",
       "...                                                  ...        ...   \n",
       "44893  Holder should be making his baseless remarks f...  left-news   \n",
       "44894  A street performer based in New York City is g...       News   \n",
       "44895  BUDAPEST (Reuters) - Hungary is not planning t...  worldnews   \n",
       "44896  WARSAW (Reuters) - Poland is ready to defend i...  worldnews   \n",
       "44897  NAYPYITAW (Reuters) - Pope Francis on Tuesday ...  worldnews   \n",
       "\n",
       "                      date label  \n",
       "0      September 26, 2017   real  \n",
       "1             Apr 20, 2017  fake  \n",
       "2        December 6, 2017   real  \n",
       "3             May 15, 2016  fake  \n",
       "4         January 26, 2017  fake  \n",
       "...                    ...   ...  \n",
       "44893         Oct 30, 2015  fake  \n",
       "44894       March 20, 2016  fake  \n",
       "44895   December 11, 2017   real  \n",
       "44896    December 7, 2017   real  \n",
       "44897   November 28, 2017   real  \n",
       "\n",
       "[44898 rows x 5 columns]"
      ]
     },
     "execution_count": 5,
     "metadata": {},
     "output_type": "execute_result"
    }
   ],
   "source": [
    "df_news"
   ]
  },
  {
   "cell_type": "markdown",
   "id": "7dd9d862",
   "metadata": {},
   "source": [
    "### 2.1 Data Cleaning<a id=\"21\"></a>\n",
    "Es importante mantener solo los features que más nos interesan, es por ello que vamos a eliminar todo lo que no este relacionado con el texto. Ya que la naturaleza de esta tarea es la clasificación mediante el texto. Del mismo modo, tenemos que eliminar los atributos que tengan muchos valores nulos."
   ]
  },
  {
   "cell_type": "code",
   "execution_count": 6,
   "id": "4f3f4178",
   "metadata": {},
   "outputs": [
    {
     "data": {
      "text/plain": [
       "<AxesSubplot:>"
      ]
     },
     "execution_count": 6,
     "metadata": {},
     "output_type": "execute_result"
    },
    {
     "data": {
      "image/png": "[encoded data removed]",
      "text/plain": [
       "<Figure size 1800x720 with 2 Axes>"
      ]
     },
     "metadata": {
      "needs_background": "light"
     },
     "output_type": "display_data"
    }
   ],
   "source": [
    "msno.matrix(df_news)"
   ]
  },
  {
   "cell_type": "markdown",
   "id": "3b79b03f",
   "metadata": {},
   "source": [
    "Como podemos observar, no encontramos valores nulos, es por ello que no es necesario eliminar columnas por falta de valores."
   ]
  },
  {
   "cell_type": "markdown",
   "id": "3f79fdd3",
   "metadata": {},
   "source": [
    "###  2.2 Data Wrangling / Preprocessing<a id=\"22\"></a>\n",
    "El data Wrangling es el proceso de transformar y mappear los datos a un formato estandar. En nuestro caso, al estar trabajando con texto, intentaremos normalizar los datos intentando perder la menor cantidad de información.\n",
    "Para ello es posible que generemos nuevas columnas a partir de la información extraida en el texto. Esta parte corresponde una parte importante del trabajo.,"
   ]
  },
  {
   "cell_type": "code",
   "execution_count": 7,
   "id": "85568c79",
   "metadata": {},
   "outputs": [
    {
     "data": {
      "text/html": [
       "<div>\n",
       "<style scoped>\n",
       "    .dataframe tbody tr th:only-of-type {\n",
       "        vertical-align: middle;\n",
       "    }\n",
       "\n",
       "    .dataframe tbody tr th {\n",
       "        vertical-align: top;\n",
       "    }\n",
       "\n",
       "    .dataframe thead th {\n",
       "        text-align: right;\n",
       "    }\n",
       "</style>\n",
       "<table border=\"1\" class=\"dataframe\">\n",
       "  <thead>\n",
       "    <tr style=\"text-align: right;\">\n",
       "      <th></th>\n",
       "      <th>title</th>\n",
       "      <th>text</th>\n",
       "      <th>subject</th>\n",
       "      <th>date</th>\n",
       "      <th>label</th>\n",
       "    </tr>\n",
       "  </thead>\n",
       "  <tbody>\n",
       "    <tr>\n",
       "      <th>0</th>\n",
       "      <td>Palestinian gunman kills three Israeli guards ...</td>\n",
       "      <td>HAR ADAR, West Bank (Reuters) - A Palestinian ...</td>\n",
       "      <td>worldnews</td>\n",
       "      <td>September 26, 2017</td>\n",
       "      <td>real</td>\n",
       "    </tr>\n",
       "    <tr>\n",
       "      <th>1</th>\n",
       "      <td>3 CONSERVATIVE CELEBRITIES Visited Trump Last ...</td>\n",
       "      <td>Ted Nugent is all smiles, as he s pictured wit...</td>\n",
       "      <td>left-news</td>\n",
       "      <td>Apr 20, 2017</td>\n",
       "      <td>fake</td>\n",
       "    </tr>\n",
       "    <tr>\n",
       "      <th>2</th>\n",
       "      <td>Bone fragments found in Mexico to be tested fo...</td>\n",
       "      <td>MEXICO CITY (Reuters) - Mexican authorities sa...</td>\n",
       "      <td>worldnews</td>\n",
       "      <td>December 6, 2017</td>\n",
       "      <td>real</td>\n",
       "    </tr>\n",
       "    <tr>\n",
       "      <th>3</th>\n",
       "      <td>Republicans Now Trying To Draft Billionaire M...</td>\n",
       "      <td>A group of desperate republicans which include...</td>\n",
       "      <td>News</td>\n",
       "      <td>May 15, 2016</td>\n",
       "      <td>fake</td>\n",
       "    </tr>\n",
       "    <tr>\n",
       "      <th>4</th>\n",
       "      <td>Trump’s Idiot Press Secretary Tweeted Out His...</td>\n",
       "      <td>When President Asterisk assured us he was asse...</td>\n",
       "      <td>News</td>\n",
       "      <td>January 26, 2017</td>\n",
       "      <td>fake</td>\n",
       "    </tr>\n",
       "    <tr>\n",
       "      <th>...</th>\n",
       "      <td>...</td>\n",
       "      <td>...</td>\n",
       "      <td>...</td>\n",
       "      <td>...</td>\n",
       "      <td>...</td>\n",
       "    </tr>\n",
       "    <tr>\n",
       "      <th>44893</th>\n",
       "      <td>FERGUSON FLAMETHROWER COMES OUT OF HIDING: Sla...</td>\n",
       "      <td>Holder should be making his baseless remarks f...</td>\n",
       "      <td>left-news</td>\n",
       "      <td>Oct 30, 2015</td>\n",
       "      <td>fake</td>\n",
       "    </tr>\n",
       "    <tr>\n",
       "      <th>44894</th>\n",
       "      <td>Street Performer Will Let You Punch ‘Donald T...</td>\n",
       "      <td>A street performer based in New York City is g...</td>\n",
       "      <td>News</td>\n",
       "      <td>March 20, 2016</td>\n",
       "      <td>fake</td>\n",
       "    </tr>\n",
       "    <tr>\n",
       "      <th>44895</th>\n",
       "      <td>Hungary not planning to move Israeli embassy t...</td>\n",
       "      <td>BUDAPEST (Reuters) - Hungary is not planning t...</td>\n",
       "      <td>worldnews</td>\n",
       "      <td>December 11, 2017</td>\n",
       "      <td>real</td>\n",
       "    </tr>\n",
       "    <tr>\n",
       "      <th>44896</th>\n",
       "      <td>Poland ready to defend migration stance in EU ...</td>\n",
       "      <td>WARSAW (Reuters) - Poland is ready to defend i...</td>\n",
       "      <td>worldnews</td>\n",
       "      <td>December 7, 2017</td>\n",
       "      <td>real</td>\n",
       "    </tr>\n",
       "    <tr>\n",
       "      <th>44897</th>\n",
       "      <td>Pope urges respect for human rights in Myanmar...</td>\n",
       "      <td>NAYPYITAW (Reuters) - Pope Francis on Tuesday ...</td>\n",
       "      <td>worldnews</td>\n",
       "      <td>November 28, 2017</td>\n",
       "      <td>real</td>\n",
       "    </tr>\n",
       "  </tbody>\n",
       "</table>\n",
       "<p>44898 rows × 5 columns</p>\n",
       "</div>"
      ],
      "text/plain": [
       "                                                   title  \\\n",
       "0      Palestinian gunman kills three Israeli guards ...   \n",
       "1      3 CONSERVATIVE CELEBRITIES Visited Trump Last ...   \n",
       "2      Bone fragments found in Mexico to be tested fo...   \n",
       "3       Republicans Now Trying To Draft Billionaire M...   \n",
       "4       Trump’s Idiot Press Secretary Tweeted Out His...   \n",
       "...                                                  ...   \n",
       "44893  FERGUSON FLAMETHROWER COMES OUT OF HIDING: Sla...   \n",
       "44894   Street Performer Will Let You Punch ‘Donald T...   \n",
       "44895  Hungary not planning to move Israeli embassy t...   \n",
       "44896  Poland ready to defend migration stance in EU ...   \n",
       "44897  Pope urges respect for human rights in Myanmar...   \n",
       "\n",
       "                                                    text    subject  \\\n",
       "0      HAR ADAR, West Bank (Reuters) - A Palestinian ...  worldnews   \n",
       "1      Ted Nugent is all smiles, as he s pictured wit...  left-news   \n",
       "2      MEXICO CITY (Reuters) - Mexican authorities sa...  worldnews   \n",
       "3      A group of desperate republicans which include...       News   \n",
       "4      When President Asterisk assured us he was asse...       News   \n",
       "...                                                  ...        ...   \n",
       "44893  Holder should be making his baseless remarks f...  left-news   \n",
       "44894  A street performer based in New York City is g...       News   \n",
       "44895  BUDAPEST (Reuters) - Hungary is not planning t...  worldnews   \n",
       "44896  WARSAW (Reuters) - Poland is ready to defend i...  worldnews   \n",
       "44897  NAYPYITAW (Reuters) - Pope Francis on Tuesday ...  worldnews   \n",
       "\n",
       "                      date label  \n",
       "0      September 26, 2017   real  \n",
       "1             Apr 20, 2017  fake  \n",
       "2        December 6, 2017   real  \n",
       "3             May 15, 2016  fake  \n",
       "4         January 26, 2017  fake  \n",
       "...                    ...   ...  \n",
       "44893         Oct 30, 2015  fake  \n",
       "44894       March 20, 2016  fake  \n",
       "44895   December 11, 2017   real  \n",
       "44896    December 7, 2017   real  \n",
       "44897   November 28, 2017   real  \n",
       "\n",
       "[44898 rows x 5 columns]"
      ]
     },
     "execution_count": 7,
     "metadata": {},
     "output_type": "execute_result"
    }
   ],
   "source": [
    "df_news"
   ]
  },
  {
   "cell_type": "code",
   "execution_count": 8,
   "id": "5f4b7530",
   "metadata": {},
   "outputs": [
    {
     "data": {
      "text/plain": [
       "'On Christmas day, Donald Trump announced that he would  be back to work  the following day, but he is golfing for the fourth day in a row. The former reality show star blasted former President Barack Obama for playing golf and now Trump is on track to outpace the number of golf games his predecessor played.Updated my tracker of Trump s appearances at Trump properties.71 rounds of golf including today s. At this pace, he ll pass Obama s first-term total by July 24 next year. https://t.co/Fg7VacxRtJ pic.twitter.com/5gEMcjQTbH  Philip Bump (@pbump) December 29, 2017 That makes what a Washington Post reporter discovered on Trump s website really weird, but everything about this administration is bizarre AF. The coding contained a reference to Obama and golf:  Unlike Obama, we are working to fix the problem   and not on the golf course.  However, the coding wasn t done correctly.The website of Donald Trump, who has spent several days in a row at the golf course, is coded to serve up the following message in the event of an internal server error: https://t.co/zrWpyMXRcz pic.twitter.com/wiQSQNNzw0  Christopher Ingraham (@_cingraham) December 28, 2017That snippet of code appears to be on all https://t.co/dkhw0AlHB4 pages, which the footer says is paid for by the RNC? pic.twitter.com/oaZDT126B3  Christopher Ingraham (@_cingraham) December 28, 2017It s also all over https://t.co/ayBlGmk65Z. As others have noted in this thread, this is weird code and it s not clear it would ever actually display, but who knows.  Christopher Ingraham (@_cingraham) December 28, 2017After the coding was called out, the reference to Obama was deleted.UPDATE: The golf error message has been removed from the Trump and GOP websites. They also fixed the javascript  =  vs  ==  problem. Still not clear when these messages would actually display, since the actual 404 (and presumably 500) page displays a different message pic.twitter.com/Z7dmyQ5smy  Christopher Ingraham (@_cingraham) December 29, 2017That suggests someone at either RNC or the Trump admin is sensitive enough to Trump s golf problem to make this issue go away quickly once people noticed. You have no idea how much I d love to see the email exchange that led us here.  Christopher Ingraham (@_cingraham) December 29, 2017 The code was f-cked up.The best part about this is that they are using the  =  (assignment) operator which means that bit of code will never get run. If you look a few lines up  errorCode  will always be  404          (@tw1trsux) December 28, 2017trump s coders can t code. Nobody is surprised.  Tim Peterson (@timrpeterson) December 28, 2017Donald Trump is obsessed with Obama that his name was even in the coding of his website while he played golf again.Photo by Joe Raedle/Getty Images.'"
      ]
     },
     "execution_count": 8,
     "metadata": {},
     "output_type": "execute_result"
    }
   ],
   "source": [
    "df_fake[\"text\"][3]"
   ]
  },
  {
   "cell_type": "code",
   "execution_count": 9,
   "id": "10278b0c",
   "metadata": {},
   "outputs": [
    {
     "data": {
      "text/plain": [
       "'WASHINGTON (Reuters) - Trump campaign adviser George Papadopoulos told an Australian diplomat in May 2016 that Russia had political dirt on Democratic presidential candidate Hillary Clinton, the New York Times reported on Saturday. The conversation between Papadopoulos and the diplomat, Alexander Downer, in London was a driving factor behind the FBI’s decision to open a counter-intelligence investigation of Moscow’s contacts with the Trump campaign, the Times reported. Two months after the meeting, Australian officials passed the information that came from Papadopoulos to their American counterparts when leaked Democratic emails began appearing online, according to the newspaper, which cited four current and former U.S. and foreign officials. Besides the information from the Australians, the probe by the Federal Bureau of Investigation was also propelled by intelligence from other friendly governments, including the British and Dutch, the Times said. Papadopoulos, a Chicago-based international energy lawyer, pleaded guilty on Oct. 30 to lying to FBI agents about contacts with people who claimed to have ties to top Russian officials. It was the first criminal charge alleging links between the Trump campaign and Russia. The White House has played down the former aide’s campaign role, saying it was “extremely limited” and that any actions he took would have been on his own. The New York Times, however, reported that Papadopoulos helped set up a meeting between then-candidate Donald Trump and Egyptian President Abdel Fattah al-Sisi and edited the outline of Trump’s first major foreign policy speech in April 2016. The federal investigation, which is now being led by Special Counsel Robert Mueller, has hung over Trump’s White House since he took office almost a year ago. Some Trump allies have recently accused Mueller’s team of being biased against the Republican president. Lawyers for Papadopoulos did not immediately respond to requests by Reuters for comment. Mueller’s office declined to comment. Trump’s White House attorney, Ty Cobb, declined to comment on the New York Times report. “Out of respect for the special counsel and his process, we are not commenting on matters such as this,” he said in a statement. Mueller has charged four Trump associates, including Papadopoulos, in his investigation. Russia has denied interfering in the U.S. election and Trump has said there was no collusion between his campaign and Moscow. '"
      ]
     },
     "execution_count": 9,
     "metadata": {},
     "output_type": "execute_result"
    }
   ],
   "source": [
    "df_real[\"text\"][3]"
   ]
  },
  {
   "cell_type": "markdown",
   "id": "bcb2f762",
   "metadata": {},
   "source": [
    "Despues de visualizar varias instancias de diferente clase, se han observado diferencias:\n",
    "1. **Longitud:** Las noticias reales tienden a ser más largas.\n",
    "2. **Menciones:** Las noticias falsas tienden a tener @ de twitter, lo cual hace que no sea una fuente muy fiable.\n",
    "3. **URL:** Las noticias falsas tienden a tener mas URL que las verdaderas."
   ]
  },
  {
   "cell_type": "markdown",
   "id": "49c3b6ff",
   "metadata": {},
   "source": [
    "### 1. Longitud en base a la clase"
   ]
  },
  {
   "cell_type": "code",
   "execution_count": 10,
   "id": "5042506e",
   "metadata": {},
   "outputs": [],
   "source": [
    "def count_word_number(phrase):\n",
    "    return len(phrase.split())"
   ]
  },
  {
   "cell_type": "code",
   "execution_count": 11,
   "id": "7e408c62",
   "metadata": {},
   "outputs": [],
   "source": [
    "# Añadir una columna con la longitud de la frase.\n",
    "df_fake['len'] = df_fake.apply(lambda row : count_word_number(row['text']), axis = 1)\n",
    "df_real['len'] = df_real.apply(lambda row : count_word_number(row['text']), axis = 1)"
   ]
  },
  {
   "cell_type": "code",
   "execution_count": 12,
   "id": "8bb3bfd6",
   "metadata": {
    "scrolled": false
   },
   "outputs": [
    {
     "data": {
      "text/plain": [
       "<BarContainer object of 2 artists>"
      ]
     },
     "execution_count": 12,
     "metadata": {},
     "output_type": "execute_result"
    },
    {
     "data": {
      "image/png": "[encoded data removed]",
      "text/plain": [
       "<Figure size 432x288 with 1 Axes>"
      ]
     },
     "metadata": {
      "needs_background": "light"
     },
     "output_type": "display_data"
    }
   ],
   "source": [
    "plt.bar([\"Real\",\"Fake\"], [df_fake['len'].mean(),df_real['len'].mean()])"
   ]
  },
  {
   "cell_type": "code",
   "execution_count": 13,
   "id": "3f7c79cc",
   "metadata": {},
   "outputs": [
    {
     "data": {
      "image/png": "[encoded data removed]",
      "text/plain": [
       "<Figure size 864x576 with 2 Axes>"
      ]
     },
     "metadata": {
      "needs_background": "light"
     },
     "output_type": "display_data"
    }
   ],
   "source": [
    "fig,(ax1,ax2)=plt.subplots(1,2,figsize=(12,8))\n",
    "ax1.hist(df_fake['len'],color='red')\n",
    "ax1.set_title('Fake Text')\n",
    "ax2.hist(df_real[\"len\"],color='green')\n",
    "ax2.set_title('Real text')\n",
    "fig.suptitle('Characters in texts')\n",
    "plt.show()"
   ]
  },
  {
   "cell_type": "markdown",
   "id": "3d1633c8",
   "metadata": {},
   "source": [
    "### 2. Menciones\n",
    "\n",
    "Como hemos mencionado anteriormente, es muy común utilizar menciones en redes sociales, es por ello que las noticias extraidas directamente de estas tienden a ser falsas."
   ]
  },
  {
   "cell_type": "code",
   "execution_count": 14,
   "id": "b62172c4",
   "metadata": {},
   "outputs": [],
   "source": [
    "def count_twitters_user(df):\n",
    "    twitter_username_re = re.compile(r'@([A-Za-z0-9_]+)')\n",
    "    count = 0\n",
    "    list_ = []\n",
    "    for text in df['text']:\n",
    "        count += len(re.findall(twitter_username_re, text))\n",
    "    return count"
   ]
  },
  {
   "cell_type": "code",
   "execution_count": 15,
   "id": "403e0f0d",
   "metadata": {},
   "outputs": [
    {
     "data": {
      "text/plain": [
       "<BarContainer object of 2 artists>"
      ]
     },
     "execution_count": 15,
     "metadata": {},
     "output_type": "execute_result"
    },
    {
     "data": {
      "image/png": "[encoded data removed]",
      "text/plain": [
       "<Figure size 432x288 with 1 Axes>"
      ]
     },
     "metadata": {
      "needs_background": "light"
     },
     "output_type": "display_data"
    }
   ],
   "source": [
    "plt.bar([\"Fake\",\"Real\"],[count_twitters_user(df_fake),count_twitters_user(df_real)])"
   ]
  },
  {
   "cell_type": "markdown",
   "id": "ea19252b",
   "metadata": {},
   "source": [
    "Como se puede observar, existe una clara correlación entre la clase y la cantidad de menciones que se realizan en una noticia. Para analizar la corelación, vamos a usar Analysis of Variance (ANOVA)"
   ]
  },
  {
   "cell_type": "markdown",
   "id": "9090425c",
   "metadata": {},
   "source": [
    "### 3. URL"
   ]
  },
  {
   "cell_type": "code",
   "execution_count": 16,
   "id": "1f86d0c7",
   "metadata": {},
   "outputs": [],
   "source": [
    "def count_url(df):\n",
    "    url_re = re.compile(r'(http|ftp|https):\\/\\/([\\w_-]+(?:(?:\\.[\\w_-]+)+))([\\w.,@?^=%&:\\/~+#-]*[\\w@?^=%&\\/~+#-])')\n",
    "    count = 0\n",
    "    list_ = []\n",
    "    for text in df['text']:\n",
    "        count += len(re.findall(url_re, text))\n",
    "    return count\n",
    "\n",
    "def count_mention_text(text):\n",
    "    twitter_username_re = re.compile(r'@([A-Za-z0-9_]+)')\n",
    "    count = len(re.findall(twitter_username_re, text))\n",
    "    return count"
   ]
  },
  {
   "cell_type": "code",
   "execution_count": 17,
   "id": "3efd9150",
   "metadata": {},
   "outputs": [
    {
     "data": {
      "text/plain": [
       "<BarContainer object of 2 artists>"
      ]
     },
     "execution_count": 17,
     "metadata": {},
     "output_type": "execute_result"
    },
    {
     "data": {
      "image/png": "[encoded data removed]",
      "text/plain": [
       "<Figure size 432x288 with 1 Axes>"
      ]
     },
     "metadata": {
      "needs_background": "light"
     },
     "output_type": "display_data"
    }
   ],
   "source": [
    "plt.bar([\"Fake\",\"Real\"],[count_url(df_fake),count_url(df_real)])"
   ]
  },
  {
   "cell_type": "markdown",
   "id": "54fddf40",
   "metadata": {},
   "source": [
    "## Adaptación de los datos<a name=\"moldaketa\"></a>\n",
    "### Hemos dividido el preprocessing en diez pasos diferentes:\n",
    "1. Borrar las URL\n",
    "2. Pasar todo a minúsculas\n",
    "3. Quitar los stopwords\n",
    "4. Quitar las marcas de puntuacion\n",
    "5. Corregir palabras\n",
    "6. Lemmanization\n",
    "7. Corregir palabras"
   ]
  },
  {
   "cell_type": "markdown",
   "id": "754a7b48",
   "metadata": {},
   "source": [
    "### 1.Borrar las URL\n",
    "En las noticias podemos encontrar URL-s las cuales no no son de utilidad. Es por ello que vamos a eliminarlas. Del mismo modo, sabemos que las URL son indicadores de la veracidad de la noticia, es por ello que este valor vamos a guardarlo en una columna aparte."
   ]
  },
  {
   "cell_type": "code",
   "execution_count": null,
   "id": "fd99a718",
   "metadata": {},
   "outputs": [],
   "source": [
    "def remove_urls(text):\n",
    "    url_pattern = re.compile(r'https?://\\S+|www\\.\\S+')\n",
    "    return url_pattern.sub(r'', text)"
   ]
  },
  {
   "cell_type": "code",
   "execution_count": null,
   "id": "aa3e1dfd",
   "metadata": {},
   "outputs": [],
   "source": []
  },
  {
   "cell_type": "code",
   "execution_count": null,
   "id": "e6826c84",
   "metadata": {},
   "outputs": [],
   "source": [
    "df[\"OriginalTweet\"] = df[\"OriginalTweet\"].apply(lambda text: remove_urls(text))"
   ]
  },
  {
   "cell_type": "code",
   "execution_count": null,
   "id": "b5e77251",
   "metadata": {},
   "outputs": [],
   "source": []
  },
  {
   "cell_type": "markdown",
   "id": "e245bfde",
   "metadata": {},
   "source": [
    "### 2. Pasar todo a minusculas\n",
    "\n",
    "Para que sea mas sencillo el procesamiento del texto, vamos a trasnformar todas las frases a minusculas."
   ]
  },
  {
   "cell_type": "code",
   "execution_count": null,
   "id": "a0a8f53c",
   "metadata": {},
   "outputs": [],
   "source": [
    "df[\"OriginalTweet\"] = df[\"OriginalTweet\"].str.lower()"
   ]
  },
  {
   "cell_type": "code",
   "execution_count": null,
   "id": "23fd15f4",
   "metadata": {},
   "outputs": [],
   "source": []
  },
  {
   "cell_type": "markdown",
   "id": "bb2c9b56",
   "metadata": {},
   "source": [
    "### 3. Quitar los stopwords\n",
    "\n",
    "Las conocidas como \"palabras vacias\" son aquellas que no nos van a aportar ninguna información, es por ello que vamos a eliminaras.\n"
   ]
  },
  {
   "cell_type": "code",
   "execution_count": null,
   "id": "4ecb9cf7",
   "metadata": {},
   "outputs": [],
   "source": [
    "STOPWORDS = set(stopwords.words('english'))\n",
    "STOPWORDS.add('u')\n",
    "def remove_stopwords(text):\n",
    "    \"\"\"custom function to remove the stopwords\"\"\"\n",
    "    return \" \".join([word for word in str(text).split() if word not in set(stopwords.words('english'))])"
   ]
  },
  {
   "cell_type": "code",
   "execution_count": null,
   "id": "02bd31fe",
   "metadata": {},
   "outputs": [],
   "source": []
  },
  {
   "cell_type": "markdown",
   "id": "3ea97bc3",
   "metadata": {},
   "source": [
    "### 4. Quitar las marcas de puntuacion\n",
    "\n",
    "Las marcas de puntuación no son relevantes, por tanto vamos a eliminarlo."
   ]
  },
  {
   "cell_type": "code",
   "execution_count": 25,
   "id": "7fc2226f",
   "metadata": {},
   "outputs": [],
   "source": [
    "def remove_punctuation(text:str):\n",
    "    \"\"\"custom function to remove the punctuation\"\"\"\n",
    "    PUNCT_TO_REMOVE = string.punctuation\n",
    "    PUNCT_TO_REMOVE += 'â’'\n",
    "    spaces = ''\n",
    "    for i in range(len(PUNCT_TO_REMOVE)):\n",
    "        spaces += ' '\n",
    "    return text.translate(bytes.maketrans(PUNCT_TO_REMOVE, spaces))\n"
   ]
  },
  {
   "cell_type": "code",
   "execution_count": null,
   "id": "7e4124e1",
   "metadata": {},
   "outputs": [],
   "source": [
    "df[\"OriginalTweet\"] = df[\"OriginalTweet\"].apply(lambda text: remove_punctuation(text))"
   ]
  },
  {
   "cell_type": "code",
   "execution_count": null,
   "id": "e7df6773",
   "metadata": {},
   "outputs": [],
   "source": []
  },
  {
   "cell_type": "markdown",
   "id": "04efc12c",
   "metadata": {},
   "source": [
    "### 5. Corregir palabras"
   ]
  },
  {
   "cell_type": "code",
   "execution_count": null,
   "id": "828ca404",
   "metadata": {},
   "outputs": [],
   "source": [
    "df['OriginalTweet'] = df['OriginalTweet'].map(lambda x: re.sub('[^A-Za-z ]+', '', x))"
   ]
  },
  {
   "cell_type": "code",
   "execution_count": null,
   "id": "44c2853a",
   "metadata": {},
   "outputs": [],
   "source": [
    "spell = SpellChecker()\n",
    "def correct_spellings(text):\n",
    "    corrected_text = []\n",
    "    misspelled_words = spell.unknown(text.split())\n",
    "    for word in text.split():\n",
    "        if word in misspelled_words:\n",
    "            corrected_text.append(spell.correction(word))\n",
    "        else:\n",
    "            corrected_text.append(word)\n",
    "    return \" \".join(corrected_text)"
   ]
  },
  {
   "cell_type": "code",
   "execution_count": null,
   "id": "fb2d976d",
   "metadata": {},
   "outputs": [],
   "source": [
    "df[\"OriginalTweet\"] = df[\"OriginalTweet\"].apply(lambda text: correct_spellings(text))"
   ]
  },
  {
   "cell_type": "markdown",
   "id": "043effb0",
   "metadata": {},
   "source": [
    "### 6. Lemmanization\n",
    "En este proceso, lemmanizamos las palabras, lo cual trata de eliminar las posibles conjugaciones. Mas información en el siguiente link: https://en.wikipedia.org/wiki/Lemmatisation"
   ]
  },
  {
   "cell_type": "code",
   "execution_count": null,
   "id": "cd881138",
   "metadata": {},
   "outputs": [],
   "source": [
    "lemmatizer = WordNetLemmatizer()\n",
    "def lemmatize_words(text):\n",
    "    return \" \".join([lemmatizer.lemmatize(word) for word in text.split()])\n",
    "\n"
   ]
  },
  {
   "cell_type": "code",
   "execution_count": null,
   "id": "89e06eb6",
   "metadata": {},
   "outputs": [],
   "source": [
    "df[\"OriginalTweet\"] = df[\"OriginalTweet\"].apply(lambda text: lemmatize_words(text))"
   ]
  },
  {
   "cell_type": "code",
   "execution_count": null,
   "id": "820c1215",
   "metadata": {},
   "outputs": [],
   "source": []
  },
  {
   "cell_type": "markdown",
   "id": "292bcead",
   "metadata": {},
   "source": [
    "### 7. Corregir palabras\n",
    "\n",
    "Es posible que despues de todo este proceso, algunas palabras se hayan \"corrompido\", es por eso que vamos a volver a corregirlas."
   ]
  },
  {
   "cell_type": "code",
   "execution_count": 26,
   "id": "cf13d92d",
   "metadata": {},
   "outputs": [
    {
     "ename": "NameError",
     "evalue": "name 'SpellChecker' is not defined",
     "output_type": "error",
     "traceback": [
      "\u001b[0;31m---------------------------------------------------------------------------\u001b[0m",
      "\u001b[0;31mNameError\u001b[0m                                 Traceback (most recent call last)",
      "\u001b[0;32m/var/folders/rd/glrxvw615jlbr2mcrlq452c40000gn/T/ipykernel_12066/3651800167.py\u001b[0m in \u001b[0;36m<module>\u001b[0;34m\u001b[0m\n\u001b[0;32m----> 1\u001b[0;31m \u001b[0mspell\u001b[0m \u001b[0;34m=\u001b[0m \u001b[0mSpellChecker\u001b[0m\u001b[0;34m(\u001b[0m\u001b[0;34m)\u001b[0m\u001b[0;34m\u001b[0m\u001b[0;34m\u001b[0m\u001b[0m\n\u001b[0m\u001b[1;32m      2\u001b[0m \u001b[0;32mdef\u001b[0m \u001b[0mcorrect_spellings\u001b[0m\u001b[0;34m(\u001b[0m\u001b[0mtext\u001b[0m\u001b[0;34m)\u001b[0m\u001b[0;34m:\u001b[0m\u001b[0;34m\u001b[0m\u001b[0;34m\u001b[0m\u001b[0m\n\u001b[1;32m      3\u001b[0m     \u001b[0mcorrected_text\u001b[0m \u001b[0;34m=\u001b[0m \u001b[0;34m[\u001b[0m\u001b[0;34m]\u001b[0m\u001b[0;34m\u001b[0m\u001b[0;34m\u001b[0m\u001b[0m\n\u001b[1;32m      4\u001b[0m     \u001b[0mmisspelled_words\u001b[0m \u001b[0;34m=\u001b[0m \u001b[0mspell\u001b[0m\u001b[0;34m.\u001b[0m\u001b[0munknown\u001b[0m\u001b[0;34m(\u001b[0m\u001b[0mtext\u001b[0m\u001b[0;34m.\u001b[0m\u001b[0msplit\u001b[0m\u001b[0;34m(\u001b[0m\u001b[0;34m)\u001b[0m\u001b[0;34m)\u001b[0m\u001b[0;34m\u001b[0m\u001b[0;34m\u001b[0m\u001b[0m\n\u001b[1;32m      5\u001b[0m     \u001b[0;32mfor\u001b[0m \u001b[0mword\u001b[0m \u001b[0;32min\u001b[0m \u001b[0mtext\u001b[0m\u001b[0;34m.\u001b[0m\u001b[0msplit\u001b[0m\u001b[0;34m(\u001b[0m\u001b[0;34m)\u001b[0m\u001b[0;34m:\u001b[0m\u001b[0;34m\u001b[0m\u001b[0;34m\u001b[0m\u001b[0m\n",
      "\u001b[0;31mNameError\u001b[0m: name 'SpellChecker' is not defined"
     ]
    }
   ],
   "source": [
    "spell = SpellChecker()\n",
    "def correct_spellings(text):\n",
    "    corrected_text = []\n",
    "    misspelled_words = spell.unknown(text.split())\n",
    "    for word in text.split():\n",
    "        if word in misspelled_words:\n",
    "            corrected_text.append(spell.correction(word))\n",
    "        else:\n",
    "            corrected_text.append(word)\n",
    "    return \" \".join(corrected_text)"
   ]
  },
  {
   "cell_type": "code",
   "execution_count": null,
   "id": "5e3261fe",
   "metadata": {},
   "outputs": [],
   "source": [
    "df['OriginalTweet'] = df['OriginalTweet'].map(lambda x: re.sub('[^A-Za-z ]+', '', x))"
   ]
  },
  {
   "cell_type": "code",
   "execution_count": null,
   "id": "4a6f3d32",
   "metadata": {},
   "outputs": [],
   "source": []
  },
  {
   "cell_type": "code",
   "execution_count": null,
   "id": "516642d9",
   "metadata": {},
   "outputs": [],
   "source": []
  },
  {
   "cell_type": "markdown",
   "id": "6c4388a7",
   "metadata": {},
   "source": [
    "### 2.3 Feature Selection<a id=\"23\"></a>\n",
    "En este apartado vamos a seleccionar los atributos que nos interesan para nuestro conjunto de datos.\n"
   ]
  },
  {
   "cell_type": "code",
   "execution_count": 18,
   "id": "f817b450",
   "metadata": {},
   "outputs": [],
   "source": [
    "df_news.drop([\"subject\",\"date\"],axis=1,inplace=True)"
   ]
  },
  {
   "cell_type": "markdown",
   "id": "31cc3ce5",
   "metadata": {},
   "source": [
    "Primero eliminaremos estas dos columnas originales del conjunto de datos, ya que no nos interesan para la tarea a realizar.\n",
    "\n",
    "Por otro lado, hemos observado de forma superficial la correlación entre la clase y la cantidad de menciones, es por ello que vamos añadirlo al conjunto de datos. Este atributo es valido debido a que está extraido directamente del texto."
   ]
  },
  {
   "cell_type": "code",
   "execution_count": 19,
   "id": "72407838",
   "metadata": {},
   "outputs": [],
   "source": [
    "df_news['has_mentions'] = df_news.apply(lambda row : count_mention_text(row['text'])>1, axis = 1)"
   ]
  },
  {
   "cell_type": "markdown",
   "id": "6118b436",
   "metadata": {},
   "source": [
    "### 2.4 Final Dataframe <a id=\"24\"></a>"
   ]
  },
  {
   "cell_type": "code",
   "execution_count": 20,
   "id": "c8610700",
   "metadata": {},
   "outputs": [],
   "source": [
    "df_news.to_csv(\"./Data/news.csv\",index=False)"
   ]
  },
  {
   "cell_type": "markdown",
   "id": "d2308e49",
   "metadata": {},
   "source": [
    "<hr>"
   ]
  },
  {
   "cell_type": "markdown",
   "id": "220f876b",
   "metadata": {},
   "source": [
    "## Exploratory data Analysis (EDA) <a id=\"3\">\n",
    "    \n",
    "En este apartado analizaremos los datos y sacaramos información que nos será de relevancia."
   ]
  },
  {
   "cell_type": "code",
   "execution_count": 21,
   "id": "76759723",
   "metadata": {},
   "outputs": [],
   "source": [
    "df = pd.read_csv(\"./Data/news.csv\")"
   ]
  },
  {
   "cell_type": "code",
   "execution_count": 22,
   "id": "0f184533",
   "metadata": {},
   "outputs": [],
   "source": [
    "df.loc[(df.label == 'real'),'label']=1  \n",
    "df.loc[(df.label == 'fake'),'label']=0\n",
    "df.loc[(df.has_mentions == 'True'),'has_mentions']=1  \n",
    "df.loc[(df.has_mentions == 'False'),'has_mentions']=0"
   ]
  },
  {
   "cell_type": "markdown",
   "id": "9930dd79",
   "metadata": {},
   "source": [
    "De este modo damos un valor numerico a la clase a predecir, lo cambiaremos mas adelante, pero por ahora lo tendremos como numerico para las métricas."
   ]
  },
  {
   "cell_type": "markdown",
   "id": "7c1ffcc8",
   "metadata": {},
   "source": [
    "### Descriptive Statistical Analysis<a id=\"31\">"
   ]
  },
  {
   "cell_type": "markdown",
   "id": "7e1ae001",
   "metadata": {},
   "source": [
    "### Correlation and Causation<a id=\"32\">"
   ]
  },
  {
   "cell_type": "code",
   "execution_count": 23,
   "id": "74e88a6b",
   "metadata": {},
   "outputs": [
    {
     "data": {
      "text/html": [
       "<div>\n",
       "<style scoped>\n",
       "    .dataframe tbody tr th:only-of-type {\n",
       "        vertical-align: middle;\n",
       "    }\n",
       "\n",
       "    .dataframe tbody tr th {\n",
       "        vertical-align: top;\n",
       "    }\n",
       "\n",
       "    .dataframe thead th {\n",
       "        text-align: right;\n",
       "    }\n",
       "</style>\n",
       "<table border=\"1\" class=\"dataframe\">\n",
       "  <thead>\n",
       "    <tr style=\"text-align: right;\">\n",
       "      <th></th>\n",
       "      <th>title</th>\n",
       "      <th>text</th>\n",
       "      <th>label</th>\n",
       "      <th>has_mentions</th>\n",
       "    </tr>\n",
       "  </thead>\n",
       "  <tbody>\n",
       "    <tr>\n",
       "      <th>0</th>\n",
       "      <td>Palestinian gunman kills three Israeli guards ...</td>\n",
       "      <td>HAR ADAR, West Bank (Reuters) - A Palestinian ...</td>\n",
       "      <td>1</td>\n",
       "      <td>False</td>\n",
       "    </tr>\n",
       "    <tr>\n",
       "      <th>1</th>\n",
       "      <td>3 CONSERVATIVE CELEBRITIES Visited Trump Last ...</td>\n",
       "      <td>Ted Nugent is all smiles, as he s pictured wit...</td>\n",
       "      <td>0</td>\n",
       "      <td>False</td>\n",
       "    </tr>\n",
       "    <tr>\n",
       "      <th>2</th>\n",
       "      <td>Bone fragments found in Mexico to be tested fo...</td>\n",
       "      <td>MEXICO CITY (Reuters) - Mexican authorities sa...</td>\n",
       "      <td>1</td>\n",
       "      <td>False</td>\n",
       "    </tr>\n",
       "    <tr>\n",
       "      <th>3</th>\n",
       "      <td>Republicans Now Trying To Draft Billionaire M...</td>\n",
       "      <td>A group of desperate republicans which include...</td>\n",
       "      <td>0</td>\n",
       "      <td>False</td>\n",
       "    </tr>\n",
       "    <tr>\n",
       "      <th>4</th>\n",
       "      <td>Trump’s Idiot Press Secretary Tweeted Out His...</td>\n",
       "      <td>When President Asterisk assured us he was asse...</td>\n",
       "      <td>0</td>\n",
       "      <td>True</td>\n",
       "    </tr>\n",
       "    <tr>\n",
       "      <th>...</th>\n",
       "      <td>...</td>\n",
       "      <td>...</td>\n",
       "      <td>...</td>\n",
       "      <td>...</td>\n",
       "    </tr>\n",
       "    <tr>\n",
       "      <th>44893</th>\n",
       "      <td>FERGUSON FLAMETHROWER COMES OUT OF HIDING: Sla...</td>\n",
       "      <td>Holder should be making his baseless remarks f...</td>\n",
       "      <td>0</td>\n",
       "      <td>False</td>\n",
       "    </tr>\n",
       "    <tr>\n",
       "      <th>44894</th>\n",
       "      <td>Street Performer Will Let You Punch ‘Donald T...</td>\n",
       "      <td>A street performer based in New York City is g...</td>\n",
       "      <td>0</td>\n",
       "      <td>True</td>\n",
       "    </tr>\n",
       "    <tr>\n",
       "      <th>44895</th>\n",
       "      <td>Hungary not planning to move Israeli embassy t...</td>\n",
       "      <td>BUDAPEST (Reuters) - Hungary is not planning t...</td>\n",
       "      <td>1</td>\n",
       "      <td>False</td>\n",
       "    </tr>\n",
       "    <tr>\n",
       "      <th>44896</th>\n",
       "      <td>Poland ready to defend migration stance in EU ...</td>\n",
       "      <td>WARSAW (Reuters) - Poland is ready to defend i...</td>\n",
       "      <td>1</td>\n",
       "      <td>False</td>\n",
       "    </tr>\n",
       "    <tr>\n",
       "      <th>44897</th>\n",
       "      <td>Pope urges respect for human rights in Myanmar...</td>\n",
       "      <td>NAYPYITAW (Reuters) - Pope Francis on Tuesday ...</td>\n",
       "      <td>1</td>\n",
       "      <td>False</td>\n",
       "    </tr>\n",
       "  </tbody>\n",
       "</table>\n",
       "<p>44898 rows × 4 columns</p>\n",
       "</div>"
      ],
      "text/plain": [
       "                                                   title  \\\n",
       "0      Palestinian gunman kills three Israeli guards ...   \n",
       "1      3 CONSERVATIVE CELEBRITIES Visited Trump Last ...   \n",
       "2      Bone fragments found in Mexico to be tested fo...   \n",
       "3       Republicans Now Trying To Draft Billionaire M...   \n",
       "4       Trump’s Idiot Press Secretary Tweeted Out His...   \n",
       "...                                                  ...   \n",
       "44893  FERGUSON FLAMETHROWER COMES OUT OF HIDING: Sla...   \n",
       "44894   Street Performer Will Let You Punch ‘Donald T...   \n",
       "44895  Hungary not planning to move Israeli embassy t...   \n",
       "44896  Poland ready to defend migration stance in EU ...   \n",
       "44897  Pope urges respect for human rights in Myanmar...   \n",
       "\n",
       "                                                    text label has_mentions  \n",
       "0      HAR ADAR, West Bank (Reuters) - A Palestinian ...     1        False  \n",
       "1      Ted Nugent is all smiles, as he s pictured wit...     0        False  \n",
       "2      MEXICO CITY (Reuters) - Mexican authorities sa...     1        False  \n",
       "3      A group of desperate republicans which include...     0        False  \n",
       "4      When President Asterisk assured us he was asse...     0         True  \n",
       "...                                                  ...   ...          ...  \n",
       "44893  Holder should be making his baseless remarks f...     0        False  \n",
       "44894  A street performer based in New York City is g...     0         True  \n",
       "44895  BUDAPEST (Reuters) - Hungary is not planning t...     1        False  \n",
       "44896  WARSAW (Reuters) - Poland is ready to defend i...     1        False  \n",
       "44897  NAYPYITAW (Reuters) - Pope Francis on Tuesday ...     1        False  \n",
       "\n",
       "[44898 rows x 4 columns]"
      ]
     },
     "execution_count": 23,
     "metadata": {},
     "output_type": "execute_result"
    }
   ],
   "source": [
    "df"
   ]
  },
  {
   "cell_type": "code",
   "execution_count": 24,
   "id": "09900416",
   "metadata": {},
   "outputs": [
    {
     "data": {
      "text/plain": [
       "-0.26349296331848926"
      ]
     },
     "execution_count": 24,
     "metadata": {},
     "output_type": "execute_result"
    }
   ],
   "source": [
    "df['label']=np.float64(df['label'])\n",
    "df['has_mentions']=np.fl oat64(df['has_mentions'])\n",
    "df['has_mentions'].corr(df['label'])"
   ]
  },
  {
   "cell_type": "markdown",
   "id": "7f9ce488",
   "metadata": {},
   "source": [
    "De este modo comprobamos que nuestra suposición no era la mas correcta, ya que no hay una clara correspondencia entre estos dos atributos."
   ]
  },
  {
   "cell_type": "markdown",
   "id": "d0e908b4",
   "metadata": {},
   "source": [
    "### Word Cloud<a id=\"33\">"
   ]
  },
  {
   "cell_type": "code",
   "execution_count": 95,
   "id": "f89e9a5d",
   "metadata": {},
   "outputs": [],
   "source": []
  },
  {
   "cell_type": "markdown",
   "id": "b70bedda",
   "metadata": {},
   "source": [
    "### Grouping<a id=\"34\">"
   ]
  },
  {
   "cell_type": "code",
   "execution_count": 98,
   "id": "91977c94",
   "metadata": {
    "scrolled": true
   },
   "outputs": [
    {
     "data": {
      "text/html": [
       "<div>\n",
       "<style scoped>\n",
       "    .dataframe tbody tr th:only-of-type {\n",
       "        vertical-align: middle;\n",
       "    }\n",
       "\n",
       "    .dataframe tbody tr th {\n",
       "        vertical-align: top;\n",
       "    }\n",
       "\n",
       "    .dataframe thead th {\n",
       "        text-align: right;\n",
       "    }\n",
       "</style>\n",
       "<table border=\"1\" class=\"dataframe\">\n",
       "  <thead>\n",
       "    <tr style=\"text-align: right;\">\n",
       "      <th></th>\n",
       "      <th>n_mentions</th>\n",
       "    </tr>\n",
       "  </thead>\n",
       "  <tbody>\n",
       "    <tr>\n",
       "      <th>n_mentions</th>\n",
       "      <td>1.0</td>\n",
       "    </tr>\n",
       "  </tbody>\n",
       "</table>\n",
       "</div>"
      ],
      "text/plain": [
       "            n_mentions\n",
       "n_mentions         1.0"
      ]
     },
     "execution_count": 98,
     "metadata": {},
     "output_type": "execute_result"
    }
   ],
   "source": []
  },
  {
   "cell_type": "markdown",
   "id": "0c88dced",
   "metadata": {},
   "source": [
    "### ANOVA<a id=\"35\">"
   ]
  },
  {
   "cell_type": "code",
   "execution_count": null,
   "id": "c2bff5bc",
   "metadata": {},
   "outputs": [],
   "source": []
  },
  {
   "cell_type": "markdown",
   "id": "92248910",
   "metadata": {},
   "source": [
    "<hr>"
   ]
  },
  {
   "cell_type": "markdown",
   "id": "58e40180",
   "metadata": {},
   "source": [
    "# Text Representation <a id=\"4\">"
   ]
  },
  {
   "cell_type": "markdown",
   "id": "35f69b7b",
   "metadata": {},
   "source": [
    "Primero de todo, prepararemos el conjunto de datos para poder realizar la vectorización de forma adecuada, preprocesando y limpiando el texto."
   ]
  },
  {
   "cell_type": "code",
   "execution_count": null,
   "id": "80cc21a0",
   "metadata": {},
   "outputs": [],
   "source": []
  },
  {
   "cell_type": "markdown",
   "id": "28549ea5",
   "metadata": {},
   "source": [
    "## TF-IDF <a id=\"41\">"
   ]
  },
  {
   "cell_type": "markdown",
   "id": "466c97a4",
   "metadata": {},
   "source": []
  },
  {
   "cell_type": "markdown",
   "id": "4eb9edcb",
   "metadata": {},
   "source": [
    "## Word Embedding <a id=\"42\">"
   ]
  },
  {
   "cell_type": "code",
   "execution_count": 13,
   "id": "2e50b2e9",
   "metadata": {},
   "outputs": [
    {
     "ename": "KeyboardInterrupt",
     "evalue": "",
     "output_type": "error",
     "traceback": [
      "\u001b[0;31m---------------------------------------------------------------------------\u001b[0m",
      "\u001b[0;31mKeyboardInterrupt\u001b[0m                         Traceback (most recent call last)",
      "\u001b[0;32m/var/folders/rd/glrxvw615jlbr2mcrlq452c40000gn/T/ipykernel_29981/1925550496.py\u001b[0m in \u001b[0;36m<module>\u001b[0;34m\u001b[0m\n\u001b[1;32m      1\u001b[0m \u001b[0;32mimport\u001b[0m \u001b[0mgensim\u001b[0m\u001b[0;34m.\u001b[0m\u001b[0mdownloader\u001b[0m \u001b[0;32mas\u001b[0m \u001b[0mapi\u001b[0m\u001b[0;34m\u001b[0m\u001b[0;34m\u001b[0m\u001b[0m\n\u001b[0;32m----> 2\u001b[0;31m \u001b[0mmodel\u001b[0m \u001b[0;34m=\u001b[0m \u001b[0mapi\u001b[0m\u001b[0;34m.\u001b[0m\u001b[0mload\u001b[0m\u001b[0;34m(\u001b[0m\u001b[0;34m\"glove-twitter-25\"\u001b[0m\u001b[0;34m)\u001b[0m\u001b[0;34m\u001b[0m\u001b[0;34m\u001b[0m\u001b[0m\n\u001b[0m\u001b[1;32m      3\u001b[0m \u001b[0mmodel\u001b[0m\u001b[0;34m.\u001b[0m\u001b[0mmost_similar\u001b[0m\u001b[0;34m(\u001b[0m\u001b[0mpositive\u001b[0m\u001b[0;34m=\u001b[0m\u001b[0;34m[\u001b[0m\u001b[0;34m'fruit'\u001b[0m\u001b[0;34m,\u001b[0m \u001b[0;34m'flower'\u001b[0m\u001b[0;34m]\u001b[0m\u001b[0;34m,\u001b[0m \u001b[0mtopn\u001b[0m\u001b[0;34m=\u001b[0m\u001b[0;36m3\u001b[0m\u001b[0;34m)\u001b[0m\u001b[0;34m\u001b[0m\u001b[0;34m\u001b[0m\u001b[0m\n",
      "\u001b[0;32m~/opt/anaconda3/envs/mineria/lib/python3.8/site-packages/gensim/downloader.py\u001b[0m in \u001b[0;36mload\u001b[0;34m(name, return_path)\u001b[0m\n\u001b[1;32m    501\u001b[0m         \u001b[0msys\u001b[0m\u001b[0;34m.\u001b[0m\u001b[0mpath\u001b[0m\u001b[0;34m.\u001b[0m\u001b[0minsert\u001b[0m\u001b[0;34m(\u001b[0m\u001b[0;36m0\u001b[0m\u001b[0;34m,\u001b[0m \u001b[0mBASE_DIR\u001b[0m\u001b[0;34m)\u001b[0m\u001b[0;34m\u001b[0m\u001b[0;34m\u001b[0m\u001b[0m\n\u001b[1;32m    502\u001b[0m         \u001b[0mmodule\u001b[0m \u001b[0;34m=\u001b[0m \u001b[0m__import__\u001b[0m\u001b[0;34m(\u001b[0m\u001b[0mname\u001b[0m\u001b[0;34m)\u001b[0m\u001b[0;34m\u001b[0m\u001b[0;34m\u001b[0m\u001b[0m\n\u001b[0;32m--> 503\u001b[0;31m         \u001b[0;32mreturn\u001b[0m \u001b[0mmodule\u001b[0m\u001b[0;34m.\u001b[0m\u001b[0mload_data\u001b[0m\u001b[0;34m(\u001b[0m\u001b[0;34m)\u001b[0m\u001b[0;34m\u001b[0m\u001b[0;34m\u001b[0m\u001b[0m\n\u001b[0m\u001b[1;32m    504\u001b[0m \u001b[0;34m\u001b[0m\u001b[0m\n\u001b[1;32m    505\u001b[0m \u001b[0;34m\u001b[0m\u001b[0m\n",
      "\u001b[0;32m~/gensim-data/glove-twitter-25/__init__.py\u001b[0m in \u001b[0;36mload_data\u001b[0;34m()\u001b[0m\n\u001b[1;32m      6\u001b[0m \u001b[0;32mdef\u001b[0m \u001b[0mload_data\u001b[0m\u001b[0;34m(\u001b[0m\u001b[0;34m)\u001b[0m\u001b[0;34m:\u001b[0m\u001b[0;34m\u001b[0m\u001b[0;34m\u001b[0m\u001b[0m\n\u001b[1;32m      7\u001b[0m     \u001b[0mpath\u001b[0m \u001b[0;34m=\u001b[0m \u001b[0mos\u001b[0m\u001b[0;34m.\u001b[0m\u001b[0mpath\u001b[0m\u001b[0;34m.\u001b[0m\u001b[0mjoin\u001b[0m\u001b[0;34m(\u001b[0m\u001b[0mbase_dir\u001b[0m\u001b[0;34m,\u001b[0m \u001b[0;34m'glove-twitter-25'\u001b[0m\u001b[0;34m,\u001b[0m \u001b[0;34m'glove-twitter-25.gz'\u001b[0m\u001b[0;34m)\u001b[0m\u001b[0;34m\u001b[0m\u001b[0;34m\u001b[0m\u001b[0m\n\u001b[0;32m----> 8\u001b[0;31m     \u001b[0mmodel\u001b[0m \u001b[0;34m=\u001b[0m \u001b[0mKeyedVectors\u001b[0m\u001b[0;34m.\u001b[0m\u001b[0mload_word2vec_format\u001b[0m\u001b[0;34m(\u001b[0m\u001b[0mpath\u001b[0m\u001b[0;34m)\u001b[0m\u001b[0;34m\u001b[0m\u001b[0;34m\u001b[0m\u001b[0m\n\u001b[0m\u001b[1;32m      9\u001b[0m     \u001b[0;32mreturn\u001b[0m \u001b[0mmodel\u001b[0m\u001b[0;34m\u001b[0m\u001b[0;34m\u001b[0m\u001b[0m\n",
      "\u001b[0;32m~/opt/anaconda3/envs/mineria/lib/python3.8/site-packages/gensim/models/keyedvectors.py\u001b[0m in \u001b[0;36mload_word2vec_format\u001b[0;34m(cls, fname, fvocab, binary, encoding, unicode_errors, limit, datatype, no_header)\u001b[0m\n\u001b[1;32m   1627\u001b[0m \u001b[0;34m\u001b[0m\u001b[0m\n\u001b[1;32m   1628\u001b[0m         \"\"\"\n\u001b[0;32m-> 1629\u001b[0;31m         return _load_word2vec_format(\n\u001b[0m\u001b[1;32m   1630\u001b[0m             \u001b[0mcls\u001b[0m\u001b[0;34m,\u001b[0m \u001b[0mfname\u001b[0m\u001b[0;34m,\u001b[0m \u001b[0mfvocab\u001b[0m\u001b[0;34m=\u001b[0m\u001b[0mfvocab\u001b[0m\u001b[0;34m,\u001b[0m \u001b[0mbinary\u001b[0m\u001b[0;34m=\u001b[0m\u001b[0mbinary\u001b[0m\u001b[0;34m,\u001b[0m \u001b[0mencoding\u001b[0m\u001b[0;34m=\u001b[0m\u001b[0mencoding\u001b[0m\u001b[0;34m,\u001b[0m \u001b[0municode_errors\u001b[0m\u001b[0;34m=\u001b[0m\u001b[0municode_errors\u001b[0m\u001b[0;34m,\u001b[0m\u001b[0;34m\u001b[0m\u001b[0;34m\u001b[0m\u001b[0m\n\u001b[1;32m   1631\u001b[0m             \u001b[0mlimit\u001b[0m\u001b[0;34m=\u001b[0m\u001b[0mlimit\u001b[0m\u001b[0;34m,\u001b[0m \u001b[0mdatatype\u001b[0m\u001b[0;34m=\u001b[0m\u001b[0mdatatype\u001b[0m\u001b[0;34m,\u001b[0m \u001b[0mno_header\u001b[0m\u001b[0;34m=\u001b[0m\u001b[0mno_header\u001b[0m\u001b[0;34m,\u001b[0m\u001b[0;34m\u001b[0m\u001b[0;34m\u001b[0m\u001b[0m\n",
      "\u001b[0;32m~/opt/anaconda3/envs/mineria/lib/python3.8/site-packages/gensim/models/keyedvectors.py\u001b[0m in \u001b[0;36m_load_word2vec_format\u001b[0;34m(cls, fname, fvocab, binary, encoding, unicode_errors, limit, datatype, no_header, binary_chunk_size)\u001b[0m\n\u001b[1;32m   1974\u001b[0m             )\n\u001b[1;32m   1975\u001b[0m         \u001b[0;32melse\u001b[0m\u001b[0;34m:\u001b[0m\u001b[0;34m\u001b[0m\u001b[0;34m\u001b[0m\u001b[0m\n\u001b[0;32m-> 1976\u001b[0;31m             \u001b[0m_word2vec_read_text\u001b[0m\u001b[0;34m(\u001b[0m\u001b[0mfin\u001b[0m\u001b[0;34m,\u001b[0m \u001b[0mkv\u001b[0m\u001b[0;34m,\u001b[0m \u001b[0mcounts\u001b[0m\u001b[0;34m,\u001b[0m \u001b[0mvocab_size\u001b[0m\u001b[0;34m,\u001b[0m \u001b[0mvector_size\u001b[0m\u001b[0;34m,\u001b[0m \u001b[0mdatatype\u001b[0m\u001b[0;34m,\u001b[0m \u001b[0municode_errors\u001b[0m\u001b[0;34m,\u001b[0m \u001b[0mencoding\u001b[0m\u001b[0;34m)\u001b[0m\u001b[0;34m\u001b[0m\u001b[0;34m\u001b[0m\u001b[0m\n\u001b[0m\u001b[1;32m   1977\u001b[0m     \u001b[0;32mif\u001b[0m \u001b[0mkv\u001b[0m\u001b[0;34m.\u001b[0m\u001b[0mvectors\u001b[0m\u001b[0;34m.\u001b[0m\u001b[0mshape\u001b[0m\u001b[0;34m[\u001b[0m\u001b[0;36m0\u001b[0m\u001b[0;34m]\u001b[0m \u001b[0;34m!=\u001b[0m \u001b[0mlen\u001b[0m\u001b[0;34m(\u001b[0m\u001b[0mkv\u001b[0m\u001b[0;34m)\u001b[0m\u001b[0;34m:\u001b[0m\u001b[0;34m\u001b[0m\u001b[0;34m\u001b[0m\u001b[0m\n\u001b[1;32m   1978\u001b[0m         logger.info(\n",
      "\u001b[0;32m~/opt/anaconda3/envs/mineria/lib/python3.8/site-packages/gensim/models/keyedvectors.py\u001b[0m in \u001b[0;36m_word2vec_read_text\u001b[0;34m(fin, kv, counts, vocab_size, vector_size, datatype, unicode_errors, encoding)\u001b[0m\n\u001b[1;32m   1880\u001b[0m             \u001b[0;32mraise\u001b[0m \u001b[0mEOFError\u001b[0m\u001b[0;34m(\u001b[0m\u001b[0;34m\"unexpected end of input; is count incorrect or file otherwise damaged?\"\u001b[0m\u001b[0;34m)\u001b[0m\u001b[0;34m\u001b[0m\u001b[0;34m\u001b[0m\u001b[0m\n\u001b[1;32m   1881\u001b[0m         \u001b[0mword\u001b[0m\u001b[0;34m,\u001b[0m \u001b[0mweights\u001b[0m \u001b[0;34m=\u001b[0m \u001b[0m_word2vec_line_to_vector\u001b[0m\u001b[0;34m(\u001b[0m\u001b[0mline\u001b[0m\u001b[0;34m,\u001b[0m \u001b[0mdatatype\u001b[0m\u001b[0;34m,\u001b[0m \u001b[0municode_errors\u001b[0m\u001b[0;34m,\u001b[0m \u001b[0mencoding\u001b[0m\u001b[0;34m)\u001b[0m\u001b[0;34m\u001b[0m\u001b[0;34m\u001b[0m\u001b[0m\n\u001b[0;32m-> 1882\u001b[0;31m         \u001b[0m_add_word_to_kv\u001b[0m\u001b[0;34m(\u001b[0m\u001b[0mkv\u001b[0m\u001b[0;34m,\u001b[0m \u001b[0mcounts\u001b[0m\u001b[0;34m,\u001b[0m \u001b[0mword\u001b[0m\u001b[0;34m,\u001b[0m \u001b[0mweights\u001b[0m\u001b[0;34m,\u001b[0m \u001b[0mvocab_size\u001b[0m\u001b[0;34m)\u001b[0m\u001b[0;34m\u001b[0m\u001b[0;34m\u001b[0m\u001b[0m\n\u001b[0m\u001b[1;32m   1883\u001b[0m \u001b[0;34m\u001b[0m\u001b[0m\n\u001b[1;32m   1884\u001b[0m \u001b[0;34m\u001b[0m\u001b[0m\n",
      "\u001b[0;32m~/opt/anaconda3/envs/mineria/lib/python3.8/site-packages/gensim/models/keyedvectors.py\u001b[0m in \u001b[0;36m_add_word_to_kv\u001b[0;34m(kv, counts, word, weights, vocab_size)\u001b[0m\n\u001b[1;32m   1831\u001b[0m         \u001b[0mlogger\u001b[0m\u001b[0;34m.\u001b[0m\u001b[0mwarning\u001b[0m\u001b[0;34m(\u001b[0m\u001b[0;34m\"vocabulary file is incomplete: '%s' is missing\"\u001b[0m\u001b[0;34m,\u001b[0m \u001b[0mword\u001b[0m\u001b[0;34m)\u001b[0m\u001b[0;34m\u001b[0m\u001b[0;34m\u001b[0m\u001b[0m\n\u001b[1;32m   1832\u001b[0m         \u001b[0mword_count\u001b[0m \u001b[0;34m=\u001b[0m \u001b[0;32mNone\u001b[0m\u001b[0;34m\u001b[0m\u001b[0;34m\u001b[0m\u001b[0m\n\u001b[0;32m-> 1833\u001b[0;31m     \u001b[0mkv\u001b[0m\u001b[0;34m.\u001b[0m\u001b[0mset_vecattr\u001b[0m\u001b[0;34m(\u001b[0m\u001b[0mword\u001b[0m\u001b[0;34m,\u001b[0m \u001b[0;34m'count'\u001b[0m\u001b[0;34m,\u001b[0m \u001b[0mword_count\u001b[0m\u001b[0;34m)\u001b[0m\u001b[0;34m\u001b[0m\u001b[0;34m\u001b[0m\u001b[0m\n\u001b[0m\u001b[1;32m   1834\u001b[0m \u001b[0;34m\u001b[0m\u001b[0m\n\u001b[1;32m   1835\u001b[0m \u001b[0;34m\u001b[0m\u001b[0m\n",
      "\u001b[0;32m~/opt/anaconda3/envs/mineria/lib/python3.8/site-packages/gensim/models/keyedvectors.py\u001b[0m in \u001b[0;36mset_vecattr\u001b[0;34m(self, key, attr, val)\u001b[0m\n\u001b[1;32m    343\u001b[0m \u001b[0;34m\u001b[0m\u001b[0m\n\u001b[1;32m    344\u001b[0m         \"\"\"\n\u001b[0;32m--> 345\u001b[0;31m         \u001b[0mself\u001b[0m\u001b[0;34m.\u001b[0m\u001b[0mallocate_vecattrs\u001b[0m\u001b[0;34m(\u001b[0m\u001b[0mattrs\u001b[0m\u001b[0;34m=\u001b[0m\u001b[0;34m[\u001b[0m\u001b[0mattr\u001b[0m\u001b[0;34m]\u001b[0m\u001b[0;34m,\u001b[0m \u001b[0mtypes\u001b[0m\u001b[0;34m=\u001b[0m\u001b[0;34m[\u001b[0m\u001b[0mtype\u001b[0m\u001b[0;34m(\u001b[0m\u001b[0mval\u001b[0m\u001b[0;34m)\u001b[0m\u001b[0;34m]\u001b[0m\u001b[0;34m)\u001b[0m\u001b[0;34m\u001b[0m\u001b[0;34m\u001b[0m\u001b[0m\n\u001b[0m\u001b[1;32m    346\u001b[0m         \u001b[0mindex\u001b[0m \u001b[0;34m=\u001b[0m \u001b[0mself\u001b[0m\u001b[0;34m.\u001b[0m\u001b[0mget_index\u001b[0m\u001b[0;34m(\u001b[0m\u001b[0mkey\u001b[0m\u001b[0;34m)\u001b[0m\u001b[0;34m\u001b[0m\u001b[0;34m\u001b[0m\u001b[0m\n\u001b[1;32m    347\u001b[0m         \u001b[0mself\u001b[0m\u001b[0;34m.\u001b[0m\u001b[0mexpandos\u001b[0m\u001b[0;34m[\u001b[0m\u001b[0mattr\u001b[0m\u001b[0;34m]\u001b[0m\u001b[0;34m[\u001b[0m\u001b[0mindex\u001b[0m\u001b[0;34m]\u001b[0m \u001b[0;34m=\u001b[0m \u001b[0mval\u001b[0m\u001b[0;34m\u001b[0m\u001b[0;34m\u001b[0m\u001b[0m\n",
      "\u001b[0;32m~/opt/anaconda3/envs/mineria/lib/python3.8/site-packages/gensim/models/keyedvectors.py\u001b[0m in \u001b[0;36mallocate_vecattrs\u001b[0;34m(self, attrs, types)\u001b[0m\n\u001b[1;32m    302\u001b[0m             \u001b[0mtypes\u001b[0m \u001b[0;34m=\u001b[0m \u001b[0;34m[\u001b[0m\u001b[0mself\u001b[0m\u001b[0;34m.\u001b[0m\u001b[0mexpandos\u001b[0m\u001b[0;34m[\u001b[0m\u001b[0mattr\u001b[0m\u001b[0;34m]\u001b[0m\u001b[0;34m.\u001b[0m\u001b[0mdtype\u001b[0m \u001b[0;32mfor\u001b[0m \u001b[0mattr\u001b[0m \u001b[0;32min\u001b[0m \u001b[0mattrs\u001b[0m\u001b[0;34m]\u001b[0m\u001b[0;34m\u001b[0m\u001b[0;34m\u001b[0m\u001b[0m\n\u001b[1;32m    303\u001b[0m         \u001b[0mtarget_size\u001b[0m \u001b[0;34m=\u001b[0m \u001b[0mlen\u001b[0m\u001b[0;34m(\u001b[0m\u001b[0mself\u001b[0m\u001b[0;34m.\u001b[0m\u001b[0mindex_to_key\u001b[0m\u001b[0;34m)\u001b[0m\u001b[0;34m\u001b[0m\u001b[0;34m\u001b[0m\u001b[0m\n\u001b[0;32m--> 304\u001b[0;31m         \u001b[0;32mfor\u001b[0m \u001b[0mattr\u001b[0m\u001b[0;34m,\u001b[0m \u001b[0mt\u001b[0m \u001b[0;32min\u001b[0m \u001b[0mzip\u001b[0m\u001b[0;34m(\u001b[0m\u001b[0mattrs\u001b[0m\u001b[0;34m,\u001b[0m \u001b[0mtypes\u001b[0m\u001b[0;34m)\u001b[0m\u001b[0;34m:\u001b[0m\u001b[0;34m\u001b[0m\u001b[0;34m\u001b[0m\u001b[0m\n\u001b[0m\u001b[1;32m    305\u001b[0m             \u001b[0;32mif\u001b[0m \u001b[0mt\u001b[0m \u001b[0;32mis\u001b[0m \u001b[0mint\u001b[0m\u001b[0;34m:\u001b[0m\u001b[0;34m\u001b[0m\u001b[0;34m\u001b[0m\u001b[0m\n\u001b[1;32m    306\u001b[0m                 \u001b[0mt\u001b[0m \u001b[0;34m=\u001b[0m \u001b[0mnp\u001b[0m\u001b[0;34m.\u001b[0m\u001b[0mint64\u001b[0m  \u001b[0;31m# ensure 'int' type 64-bit (numpy-on-Windows https://github.com/numpy/numpy/issues/9464)\u001b[0m\u001b[0;34m\u001b[0m\u001b[0;34m\u001b[0m\u001b[0m\n",
      "\u001b[0;31mKeyboardInterrupt\u001b[0m: "
     ]
    }
   ],
   "source": [
    "import gensim.downloader as apix\n",
    "model = api.load(\"glove-twitter-25\")\n",
    "model.most_similar(positive=['fruit', 'flower'], topn=3)"
   ]
  },
  {
   "cell_type": "code",
   "execution_count": 16,
   "id": "8e315580",
   "metadata": {},
   "outputs": [
    {
     "data": {
      "text/plain": [
       "[('facebook', 0.948005199432373),\n",
       " ('tweet', 0.9403423070907593),\n",
       " ('fb', 0.9342359900474548),\n",
       " ('instagram', 0.9104822874069214),\n",
       " ('chat', 0.8964963555335999),\n",
       " ('hashtag', 0.8885936141014099),\n",
       " ('tweets', 0.8878159523010254),\n",
       " ('tl', 0.8778461217880249),\n",
       " ('link', 0.8778210878372192),\n",
       " ('internet', 0.8753897547721863)]"
      ]
     },
     "execution_count": 16,
     "metadata": {},
     "output_type": "execute_result"
    }
   ],
   "source": [
    "model.most_similar('twitter')"
   ]
  },
  {
   "cell_type": "markdown",
   "id": "1c548db3",
   "metadata": {},
   "source": [
    "<hr>"
   ]
  },
  {
   "cell_type": "markdown",
   "id": "14a5e580",
   "metadata": {},
   "source": [
    "# Model Development <a id=\"5\">"
   ]
  },
  {
   "cell_type": "code",
   "execution_count": null,
   "id": "0b2ae785",
   "metadata": {},
   "outputs": [],
   "source": []
  }
 ],
 "metadata": {
  "kernelspec": {
   "display_name": "Python 3 (ipykernel)",
   "language": "python",
   "name": "python3"
  },
  "language_info": {
   "codemirror_mode": {
    "name": "ipython",
    "version": 3
   },
   "file_extension": ".py",
   "mimetype": "text/x-python",
   "name": "python",
   "nbconvert_exporter": "python",
   "pygments_lexer": "ipython3",
   "version": "3.8.11"
  }
 },
 "nbformat": 4,
 "nbformat_minor": 5
}
