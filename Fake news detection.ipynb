{
 "cells": [
  {
   "cell_type": "markdown",
   "id": "959c00a9",
   "metadata": {},
   "source": [
    "<a href=\"https://cognitiveclass.ai\"><img src = \"https://imagenes.20minutos.es/files/article_amp/uploads/imagenes/2021/01/28/corruption-2727571-1280-1.png\" width = 400> </a>\n",
    "\n",
    "<h1 align=center><font size = 6>Fake news detection through Machine Learning</font></h1>"
   ]
  },
  {
   "cell_type": "markdown",
   "id": "3892b017",
   "metadata": {},
   "source": [
    "## Introduction\n",
    "\n",
    "Como se menciona en el titulo, vamos a diseñar un modelo de predicción orientado a la detección de noticias falsas. Para esta tarea emplearemos dos formas diferentes de representar palabras y utilizaremos dos modelos logísticos diferentes. A diferencia de proyectos anteriores, vamos a trabajar con dos features que son de tipo texto, añadiendo asi algo de complejidad extra al proyecto.\n",
    "\n",
    "Nuestro objetivo será comparar resultados entre representaciones diferentes y obtener un clasificador que realice de forma correcta la clasificación."
   ]
  },
  {
   "cell_type": "markdown",
   "id": "c533fb66",
   "metadata": {},
   "source": [
    "## Indice\n",
    "\n",
    "<div class=\"alert alert-block alert-info\" style=\"margin-top: 20px\">\n",
    "\n",
    "1. [Dataset](#1)<br>\n",
    "2. [Data Visualization](#2)<br>\n",
    "3. [Visualizing Data using Matplotlib](#3) <br>\n",
    "4. [Pie Charts](#4) <br>\n",
    "5. [Box Plots](#5) <br>\n",
    "6. [Scatter Plots](#6) <br>\n",
    "7. [Bubble Plots](#7) <br> \n",
    "</div>\n",
    "<hr>"
   ]
  },
  {
   "cell_type": "code",
   "execution_count": 69,
   "id": "e33e2eea",
   "metadata": {},
   "outputs": [],
   "source": [
    "import pandas as pd\n",
    "import numpy as np\n",
    "import matplotlib.pyplot as plt"
   ]
  },
  {
   "cell_type": "markdown",
   "id": "14833258",
   "metadata": {},
   "source": [
    "## Dataset<a id=\"1\"></a>\n",
    "\n",
    "Primero de todo, obtendremos el conjunto de datos."
   ]
  },
  {
   "cell_type": "code",
   "execution_count": 7,
   "id": "49411dac",
   "metadata": {},
   "outputs": [],
   "source": [
    "df_fake = pd.read_csv('./Data/Fake.csv')\n",
    "df_real = pd.read_csv('./Data/True.csv')"
   ]
  },
  {
   "cell_type": "markdown",
   "id": "6bf60600",
   "metadata": {},
   "source": [
    "Como se observa, los datos estan divididos en dos conjuntos de datos dependiendo de la clase, es por ello que vamos a unirlos para poder trabajar con mas comodidad."
   ]
  },
  {
   "cell_type": "code",
   "execution_count": 30,
   "id": "de0524f5",
   "metadata": {},
   "outputs": [],
   "source": [
    "df_fake[\"label\"] = \"fake\"\n",
    "df_real[\"label\"] = \"real\"\n",
    "df_news = pd.concat([df_fake,df_real]).sample(frac=1)\n",
    "df_news.reset_index(drop=True, inplace=True)"
   ]
  },
  {
   "cell_type": "code",
   "execution_count": 31,
   "id": "22958097",
   "metadata": {},
   "outputs": [
    {
     "data": {
      "text/html": [
       "<div>\n",
       "<style scoped>\n",
       "    .dataframe tbody tr th:only-of-type {\n",
       "        vertical-align: middle;\n",
       "    }\n",
       "\n",
       "    .dataframe tbody tr th {\n",
       "        vertical-align: top;\n",
       "    }\n",
       "\n",
       "    .dataframe thead th {\n",
       "        text-align: right;\n",
       "    }\n",
       "</style>\n",
       "<table border=\"1\" class=\"dataframe\">\n",
       "  <thead>\n",
       "    <tr style=\"text-align: right;\">\n",
       "      <th></th>\n",
       "      <th>title</th>\n",
       "      <th>text</th>\n",
       "      <th>subject</th>\n",
       "      <th>date</th>\n",
       "      <th>label</th>\n",
       "    </tr>\n",
       "  </thead>\n",
       "  <tbody>\n",
       "    <tr>\n",
       "      <th>0</th>\n",
       "      <td>Syria Strike Completely Backfires Against Tru...</td>\n",
       "      <td>In case you just woke up, the United States is...</td>\n",
       "      <td>News</td>\n",
       "      <td>April 7, 2017</td>\n",
       "      <td>fake</td>\n",
       "    </tr>\n",
       "    <tr>\n",
       "      <th>1</th>\n",
       "      <td>Senate Republicans rule out action on Obama hi...</td>\n",
       "      <td>WASHINGTON (Reuters) - The Republican-led U.S....</td>\n",
       "      <td>politicsNews</td>\n",
       "      <td>February 23, 2016</td>\n",
       "      <td>real</td>\n",
       "    </tr>\n",
       "    <tr>\n",
       "      <th>2</th>\n",
       "      <td>POPE TAKES COMMUNIST CRUCIFIX GIFT HOME: Says ...</td>\n",
       "      <td>Well, as a Catholic the act of the Pope of my ...</td>\n",
       "      <td>left-news</td>\n",
       "      <td>Jul 13, 2015</td>\n",
       "      <td>fake</td>\n",
       "    </tr>\n",
       "    <tr>\n",
       "      <th>3</th>\n",
       "      <td>\\r\\r\\r\\r\\r\\r\\r\\nDonald Trump Gets His A** Hand...</td>\n",
       "      <td>A 10-year-old girl smacked down Donald Trump, ...</td>\n",
       "      <td>News</td>\n",
       "      <td>February 29, 2016</td>\n",
       "      <td>fake</td>\n",
       "    </tr>\n",
       "    <tr>\n",
       "      <th>4</th>\n",
       "      <td>JOHN KERRY’S STATE DEPT Reportedly Funneled Ov...</td>\n",
       "      <td>So much for  the most transparent administrati...</td>\n",
       "      <td>politics</td>\n",
       "      <td>Sep 13, 2016</td>\n",
       "      <td>fake</td>\n",
       "    </tr>\n",
       "    <tr>\n",
       "      <th>...</th>\n",
       "      <td>...</td>\n",
       "      <td>...</td>\n",
       "      <td>...</td>\n",
       "      <td>...</td>\n",
       "      <td>...</td>\n",
       "    </tr>\n",
       "    <tr>\n",
       "      <th>44893</th>\n",
       "      <td>U.N. AMB NIKKI HALEY SHOWS PHOTOS…SHOCKS U.N. ...</td>\n",
       "      <td>BREAKING: In UN, Amb. Haley shows images of ch...</td>\n",
       "      <td>politics</td>\n",
       "      <td>Apr 5, 2017</td>\n",
       "      <td>fake</td>\n",
       "    </tr>\n",
       "    <tr>\n",
       "      <th>44894</th>\n",
       "      <td>Trump’s ‘Major Meeting’ On Veterans Affairs N...</td>\n",
       "      <td>A  major meeting  on veterans affairs didn t h...</td>\n",
       "      <td>News</td>\n",
       "      <td>March 19, 2017</td>\n",
       "      <td>fake</td>\n",
       "    </tr>\n",
       "    <tr>\n",
       "      <th>44895</th>\n",
       "      <td>WHY THESE ARMY ROTC CADETS WERE PRESSURED INTO...</td>\n",
       "      <td>The wu$$ification of our military Army ROTC ca...</td>\n",
       "      <td>left-news</td>\n",
       "      <td>Apr 21, 2015</td>\n",
       "      <td>fake</td>\n",
       "    </tr>\n",
       "    <tr>\n",
       "      <th>44896</th>\n",
       "      <td>Massachusetts immigrant ruling could guide oth...</td>\n",
       "      <td>BOSTON (Reuters) - A ruling by Massachusetts’ ...</td>\n",
       "      <td>politicsNews</td>\n",
       "      <td>July 26, 2017</td>\n",
       "      <td>real</td>\n",
       "    </tr>\n",
       "    <tr>\n",
       "      <th>44897</th>\n",
       "      <td>Factbox: State-by-state poll closing times for...</td>\n",
       "      <td>(Reuters) - The following table lists each sta...</td>\n",
       "      <td>politicsNews</td>\n",
       "      <td>November 8, 2016</td>\n",
       "      <td>real</td>\n",
       "    </tr>\n",
       "  </tbody>\n",
       "</table>\n",
       "<p>44898 rows × 5 columns</p>\n",
       "</div>"
      ],
      "text/plain": [
       "                                                   title  \\\n",
       "0       Syria Strike Completely Backfires Against Tru...   \n",
       "1      Senate Republicans rule out action on Obama hi...   \n",
       "2      POPE TAKES COMMUNIST CRUCIFIX GIFT HOME: Says ...   \n",
       "3      \\r\\r\\r\\r\\r\\r\\r\\nDonald Trump Gets His A** Hand...   \n",
       "4      JOHN KERRY’S STATE DEPT Reportedly Funneled Ov...   \n",
       "...                                                  ...   \n",
       "44893  U.N. AMB NIKKI HALEY SHOWS PHOTOS…SHOCKS U.N. ...   \n",
       "44894   Trump’s ‘Major Meeting’ On Veterans Affairs N...   \n",
       "44895  WHY THESE ARMY ROTC CADETS WERE PRESSURED INTO...   \n",
       "44896  Massachusetts immigrant ruling could guide oth...   \n",
       "44897  Factbox: State-by-state poll closing times for...   \n",
       "\n",
       "                                                    text       subject  \\\n",
       "0      In case you just woke up, the United States is...          News   \n",
       "1      WASHINGTON (Reuters) - The Republican-led U.S....  politicsNews   \n",
       "2      Well, as a Catholic the act of the Pope of my ...     left-news   \n",
       "3      A 10-year-old girl smacked down Donald Trump, ...          News   \n",
       "4      So much for  the most transparent administrati...      politics   \n",
       "...                                                  ...           ...   \n",
       "44893  BREAKING: In UN, Amb. Haley shows images of ch...      politics   \n",
       "44894  A  major meeting  on veterans affairs didn t h...          News   \n",
       "44895  The wu$$ification of our military Army ROTC ca...     left-news   \n",
       "44896  BOSTON (Reuters) - A ruling by Massachusetts’ ...  politicsNews   \n",
       "44897  (Reuters) - The following table lists each sta...  politicsNews   \n",
       "\n",
       "                     date label  \n",
       "0           April 7, 2017  fake  \n",
       "1      February 23, 2016   real  \n",
       "2            Jul 13, 2015  fake  \n",
       "3       February 29, 2016  fake  \n",
       "4            Sep 13, 2016  fake  \n",
       "...                   ...   ...  \n",
       "44893         Apr 5, 2017  fake  \n",
       "44894      March 19, 2017  fake  \n",
       "44895        Apr 21, 2015  fake  \n",
       "44896      July 26, 2017   real  \n",
       "44897   November 8, 2016   real  \n",
       "\n",
       "[44898 rows x 5 columns]"
      ]
     },
     "execution_count": 31,
     "metadata": {},
     "output_type": "execute_result"
    }
   ],
   "source": [
    "df_news"
   ]
  },
  {
   "cell_type": "markdown",
   "id": "a560b91e",
   "metadata": {},
   "source": [
    "## Data Visualization<a id=\"2\"></a>\n",
    "\n",
    "En este apartado vamos a echar un primer vistazo a los datos, para ver si podemos sacar algún tipo de información de valor antes de ejecutar el preproceso."
   ]
  },
  {
   "cell_type": "code",
   "execution_count": 55,
   "id": "06876608",
   "metadata": {},
   "outputs": [
    {
     "data": {
      "text/plain": [
       "'On Christmas day, Donald Trump announced that he would  be back to work  the following day, but he is golfing for the fourth day in a row. The former reality show star blasted former President Barack Obama for playing golf and now Trump is on track to outpace the number of golf games his predecessor played.Updated my tracker of Trump s appearances at Trump properties.71 rounds of golf including today s. At this pace, he ll pass Obama s first-term total by July 24 next year. https://t.co/Fg7VacxRtJ pic.twitter.com/5gEMcjQTbH  Philip Bump (@pbump) December 29, 2017 That makes what a Washington Post reporter discovered on Trump s website really weird, but everything about this administration is bizarre AF. The coding contained a reference to Obama and golf:  Unlike Obama, we are working to fix the problem   and not on the golf course.  However, the coding wasn t done correctly.The website of Donald Trump, who has spent several days in a row at the golf course, is coded to serve up the following message in the event of an internal server error: https://t.co/zrWpyMXRcz pic.twitter.com/wiQSQNNzw0  Christopher Ingraham (@_cingraham) December 28, 2017That snippet of code appears to be on all https://t.co/dkhw0AlHB4 pages, which the footer says is paid for by the RNC? pic.twitter.com/oaZDT126B3  Christopher Ingraham (@_cingraham) December 28, 2017It s also all over https://t.co/ayBlGmk65Z. As others have noted in this thread, this is weird code and it s not clear it would ever actually display, but who knows.  Christopher Ingraham (@_cingraham) December 28, 2017After the coding was called out, the reference to Obama was deleted.UPDATE: The golf error message has been removed from the Trump and GOP websites. They also fixed the javascript  =  vs  ==  problem. Still not clear when these messages would actually display, since the actual 404 (and presumably 500) page displays a different message pic.twitter.com/Z7dmyQ5smy  Christopher Ingraham (@_cingraham) December 29, 2017That suggests someone at either RNC or the Trump admin is sensitive enough to Trump s golf problem to make this issue go away quickly once people noticed. You have no idea how much I d love to see the email exchange that led us here.  Christopher Ingraham (@_cingraham) December 29, 2017 The code was f-cked up.The best part about this is that they are using the  =  (assignment) operator which means that bit of code will never get run. If you look a few lines up  errorCode  will always be  404          (@tw1trsux) December 28, 2017trump s coders can t code. Nobody is surprised.  Tim Peterson (@timrpeterson) December 28, 2017Donald Trump is obsessed with Obama that his name was even in the coding of his website while he played golf again.Photo by Joe Raedle/Getty Images.'"
      ]
     },
     "execution_count": 55,
     "metadata": {},
     "output_type": "execute_result"
    }
   ],
   "source": [
    "df_fake[\"text\"][3]"
   ]
  },
  {
   "cell_type": "code",
   "execution_count": 54,
   "id": "dae7f0a1",
   "metadata": {},
   "outputs": [
    {
     "data": {
      "text/plain": [
       "'WASHINGTON (Reuters) - Trump campaign adviser George Papadopoulos told an Australian diplomat in May 2016 that Russia had political dirt on Democratic presidential candidate Hillary Clinton, the New York Times reported on Saturday. The conversation between Papadopoulos and the diplomat, Alexander Downer, in London was a driving factor behind the FBI’s decision to open a counter-intelligence investigation of Moscow’s contacts with the Trump campaign, the Times reported. Two months after the meeting, Australian officials passed the information that came from Papadopoulos to their American counterparts when leaked Democratic emails began appearing online, according to the newspaper, which cited four current and former U.S. and foreign officials. Besides the information from the Australians, the probe by the Federal Bureau of Investigation was also propelled by intelligence from other friendly governments, including the British and Dutch, the Times said. Papadopoulos, a Chicago-based international energy lawyer, pleaded guilty on Oct. 30 to lying to FBI agents about contacts with people who claimed to have ties to top Russian officials. It was the first criminal charge alleging links between the Trump campaign and Russia. The White House has played down the former aide’s campaign role, saying it was “extremely limited” and that any actions he took would have been on his own. The New York Times, however, reported that Papadopoulos helped set up a meeting between then-candidate Donald Trump and Egyptian President Abdel Fattah al-Sisi and edited the outline of Trump’s first major foreign policy speech in April 2016. The federal investigation, which is now being led by Special Counsel Robert Mueller, has hung over Trump’s White House since he took office almost a year ago. Some Trump allies have recently accused Mueller’s team of being biased against the Republican president. Lawyers for Papadopoulos did not immediately respond to requests by Reuters for comment. Mueller’s office declined to comment. Trump’s White House attorney, Ty Cobb, declined to comment on the New York Times report. “Out of respect for the special counsel and his process, we are not commenting on matters such as this,” he said in a statement. Mueller has charged four Trump associates, including Papadopoulos, in his investigation. Russia has denied interfering in the U.S. election and Trump has said there was no collusion between his campaign and Moscow. '"
      ]
     },
     "execution_count": 54,
     "metadata": {},
     "output_type": "execute_result"
    }
   ],
   "source": [
    "df_real[\"text\"][3]"
   ]
  },
  {
   "cell_type": "markdown",
   "id": "245f6a8e",
   "metadata": {},
   "source": [
    "Despues de visualizar varias instancias de diferente clase, se han observado diferencias:\n",
    "1. **Longitud:** Las noticias reales tienden a ser más largas.\n",
    "2. **Menciones:** Las noticias falsas tienden a tener @ de twitter, lo cual hace que no sea una fuente muy fiable.\n",
    "3. **URL:** Las noticias falsas tienden a tener mas URL que las verdaderas."
   ]
  },
  {
   "cell_type": "markdown",
   "id": "e7727c8d",
   "metadata": {},
   "source": [
    "### 1. Longitud en base a la clase"
   ]
  },
  {
   "cell_type": "code",
   "execution_count": 57,
   "id": "3294b7fa",
   "metadata": {},
   "outputs": [],
   "source": [
    "def count_word_number(phrase):\n",
    "    return len(phrase.split())"
   ]
  },
  {
   "cell_type": "code",
   "execution_count": 63,
   "id": "7dc79dae",
   "metadata": {},
   "outputs": [],
   "source": [
    "# Añadir una columna con la longitud de la frase.\n",
    "df_fake['len'] = df_fake.apply(lambda row : count_word_number(row['text']), axis = 1)\n",
    "df_real['len'] = df_real.apply(lambda row : count_word_number(row['text']), axis = 1)"
   ]
  },
  {
   "cell_type": "code",
   "execution_count": 67,
   "id": "6ca5e7d0",
   "metadata": {},
   "outputs": [
    {
     "data": {
      "text/plain": [
       "423.1979046888974"
      ]
     },
     "execution_count": 67,
     "metadata": {},
     "output_type": "execute_result"
    }
   ],
   "source": [
    "import matplotlib.pyplot as plt\n",
    "fig = plt.figure()\n",
    "ax = fig.add_axes([0,0,1,1])\n",
    "langs = ['C', 'C++', 'Java', 'Python', 'PHP']\n",
    "students = [23,17,35,29,12]\n",
    "ax.bar(langs,students)\n",
    "plt.show()"
   ]
  },
  {
   "cell_type": "code",
   "execution_count": 70,
   "id": "d097cfe1",
   "metadata": {},
   "outputs": [
    {
     "data": {
      "text/plain": [
       "<BarContainer object of 2 artists>"
      ]
     },
     "execution_count": 70,
     "metadata": {},
     "output_type": "execute_result"
    },
    {
     "data": {
      "image/png": "[encoded data removed]",
      "text/plain": [
       "<Figure size 432x288 with 1 Axes>"
      ]
     },
     "metadata": {
      "needs_background": "light"
     },
     "output_type": "display_data"
    }
   ],
   "source": [
    "plt.bar([\"Real\",\"Fake\"], [df_fake['len'].mean(),df_real['len'].mean()])"
   ]
  },
  {
   "cell_type": "code",
   "execution_count": null,
   "id": "5a3f7e3e",
   "metadata": {},
   "outputs": [],
   "source": []
  }
 ],
 "metadata": {
  "kernelspec": {
   "display_name": "Python 3 (ipykernel)",
   "language": "python",
   "name": "python3"
  },
  "language_info": {
   "codemirror_mode": {
    "name": "ipython",
    "version": 3
   },
   "file_extension": ".py",
   "mimetype": "text/x-python",
   "name": "python",
   "nbconvert_exporter": "python",
   "pygments_lexer": "ipython3",
   "version": "3.8.12"
  }
 },
 "nbformat": 4,
 "nbformat_minor": 5
}
